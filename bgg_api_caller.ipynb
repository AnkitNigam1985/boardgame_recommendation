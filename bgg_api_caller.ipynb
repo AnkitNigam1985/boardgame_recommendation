{
 "cells": [
  {
   "cell_type": "markdown",
   "metadata": {},
   "source": [
    "handles hidden API of bgg that loads ratings\n",
    "<br>\n",
    "\n",
    "loops through the pages of a given game\n",
    "<br>\n",
    "\n",
    "saves everything as json files in this format: \n",
    "<br>\n",
    "\n",
    "./JSON/game_id/game_id-page_id.json\n",
    "<br>\n",
    "\n",
    "where game_id is the bgg id for that particular game, page id is 001 for first 50 records, 002,..., hopefully three digits will be enough"
   ]
  },
  {
   "cell_type": "code",
   "execution_count": 34,
   "metadata": {},
   "outputs": [],
   "source": [
    "import requests\n",
    "import json\n",
    "import numpy as np\n",
    "import time\n",
    "from datetime import datetime\n",
    "import os"
   ]
  },
  {
   "cell_type": "code",
   "execution_count": 35,
   "metadata": {},
   "outputs": [],
   "source": [
    "def get_three_digit_code(input_number):\n",
    "    if input_number < 10:\n",
    "        return \"00\" + str(input_number)\n",
    "    elif input_number < 100:\n",
    "        return \"0\" + str(input_number)\n",
    "    else:\n",
    "        return str(input_number)"
   ]
  },
  {
   "cell_type": "code",
   "execution_count": 36,
   "metadata": {},
   "outputs": [],
   "source": [
    "url_main_1 = \"https://api.geekdo.com/api/collections?ajax=1&objectid=\"\n",
    "# object_id = str(174430)\n",
    "url_main_2 = \"&objecttype=thing&oneperuser=1&pageid=\"\n",
    "# page_id = str(1)\n",
    "url_main_3 = \"&rated=1&require_review=true&showcount=50&sort=review_tstamp\""
   ]
  },
  {
   "cell_type": "code",
   "execution_count": 2,
   "metadata": {},
   "outputs": [],
   "source": [
    "game_id = str(174430)"
   ]
  },
  {
   "cell_type": "code",
   "execution_count": 37,
   "metadata": {},
   "outputs": [],
   "source": [
    "batch_1 = [\n",
    "    '161936','167791','224517','182028','233078',\n",
    "    '187645','12333', '220308','193738','169786' \n",
    "]"
   ]
  },
  {
   "cell_type": "code",
   "execution_count": 38,
   "metadata": {},
   "outputs": [],
   "source": [
    "last_page = {}\n",
    "last_page['161936'] = 724\n",
    "last_page['167791'] = 1042\n",
    "last_page['224517'] = 239\n",
    "last_page['182028'] = 386\n",
    "last_page['233078'] = 207\n",
    "last_page['187645'] = 397\n",
    "last_page['12333'] = 750\n",
    "last_page['220308'] = 259\n",
    "last_page['193738'] = 488\n",
    "last_page['169786'] = 983\n"
   ]
  },
  {
   "cell_type": "code",
   "execution_count": 101,
   "metadata": {},
   "outputs": [
    {
     "name": "stdout",
     "output_type": "stream",
     "text": [
      "233078\n",
      "50\n",
      "100\n",
      "150\n",
      "200\n",
      "187645\n",
      "50\n",
      "100\n",
      "150\n",
      "200\n",
      "250\n",
      "300\n",
      "350\n",
      "12333\n",
      "50\n",
      "100\n",
      "150\n",
      "200\n",
      "250\n",
      "300\n",
      "350\n",
      "400\n",
      "450\n",
      "500\n",
      "550\n",
      "600\n",
      "650\n",
      "700\n",
      "750\n"
     ]
    }
   ],
   "source": [
    "# log_file = open('./json_data/log.txt', 'a')\n",
    "\n",
    "for game_id in batch_1[7:]:\n",
    "    \n",
    "    print(game_id)\n",
    "    \n",
    "    page_num = 1\n",
    "    page_empty = False\n",
    "\n",
    "    while not page_empty:\n",
    "\n",
    "        # log progress\n",
    "#         log_file.write('\\n' + datetime.now().strftime(\"%m/%d/%Y, %H:%M:%S\") + '---' + str(page_num))\n",
    "\n",
    "        # get API response\n",
    "        page_empty = handle_one_api_request(game_id, page_num)\n",
    "\n",
    "        seconds_to_sleep = 5 + np.random.uniform(0,1)\n",
    "        time.sleep(seconds_to_sleep)\n",
    "        \n",
    "        page_num += 1\n",
    "        \n",
    "        if page_num % 50 == 0:\n",
    "            print(page_num)\n",
    "        \n",
    "    time.sleep(60)\n",
    "\n",
    "# log_file.close()"
   ]
  },
  {
   "cell_type": "code",
   "execution_count": null,
   "metadata": {},
   "outputs": [],
   "source": []
  },
  {
   "cell_type": "code",
   "execution_count": 33,
   "metadata": {},
   "outputs": [],
   "source": [
    "# create directories\n",
    "for game_id in batch_1:\n",
    "    os.mkdir('./json_data/game_' + game_id)"
   ]
  },
  {
   "cell_type": "code",
   "execution_count": 73,
   "metadata": {},
   "outputs": [],
   "source": [
    "handle_one_api_request('224517',239)"
   ]
  },
  {
   "cell_type": "code",
   "execution_count": 91,
   "metadata": {},
   "outputs": [],
   "source": [
    "def handle_one_api_request(game_id_input, page_num_input):\n",
    "    response_to_save = get_api_response(game_id_input, page_num_input)\n",
    "    save_response_as_json(response_to_save, game_id_input, page_num_input)\n",
    "    return is_empty_page(response_to_save)"
   ]
  },
  {
   "cell_type": "code",
   "execution_count": 92,
   "metadata": {},
   "outputs": [],
   "source": [
    "def get_api_response(game_id_input, page_num_input):\n",
    "    url = url_main_1 + game_id_input + url_main_2 + str(page_num_input) + url_main_3\n",
    "    return requests.get(url)"
   ]
  },
  {
   "cell_type": "code",
   "execution_count": 93,
   "metadata": {},
   "outputs": [],
   "source": [
    "def save_response_as_json(response_input, game_id_input, page_num_input):\n",
    "    with open(\n",
    "        './json_data/game_' + game_id_input + '/' + \n",
    "        game_id_input + '_' + get_three_digit_code(page_num_input) + \n",
    "        '.json', 'w') as outfile:\n",
    "        # example: ./json_data/game_174430/174430_001.json\n",
    "        json.dump(response_input.json(), outfile)"
   ]
  },
  {
   "cell_type": "code",
   "execution_count": 94,
   "metadata": {},
   "outputs": [],
   "source": [
    "def is_empty_page(response_input):\n",
    "    empty_page = False\n",
    "    if 'items' in response_input.json().keys():\n",
    "        if len(response_input.json()['items']) == 0:\n",
    "            empty_page = True\n",
    "            \n",
    "    return empty_page"
   ]
  },
  {
   "cell_type": "code",
   "execution_count": 75,
   "metadata": {},
   "outputs": [],
   "source": [
    "testresp = get_api_response('224517',250)"
   ]
  },
  {
   "cell_type": "code",
   "execution_count": 76,
   "metadata": {},
   "outputs": [
    {
     "data": {
      "text/plain": [
       "<Response [200]>"
      ]
     },
     "execution_count": 76,
     "metadata": {},
     "output_type": "execute_result"
    }
   ],
   "source": [
    "testresp"
   ]
  },
  {
   "cell_type": "code",
   "execution_count": 79,
   "metadata": {},
   "outputs": [
    {
     "data": {
      "text/plain": [
       "0"
      ]
     },
     "execution_count": 79,
     "metadata": {},
     "output_type": "execute_result"
    }
   ],
   "source": [
    "len(testresp.json()['items'])"
   ]
  },
  {
   "cell_type": "code",
   "execution_count": 84,
   "metadata": {},
   "outputs": [
    {
     "data": {
      "text/plain": [
       "dict_keys"
      ]
     },
     "execution_count": 84,
     "metadata": {},
     "output_type": "execute_result"
    }
   ],
   "source": [
    "type(testresp.json().keys())"
   ]
  },
  {
   "cell_type": "code",
   "execution_count": 85,
   "metadata": {},
   "outputs": [
    {
     "data": {
      "text/plain": [
       "True"
      ]
     },
     "execution_count": 85,
     "metadata": {},
     "output_type": "execute_result"
    }
   ],
   "source": [
    "'items' in testresp.json().keys()"
   ]
  },
  {
   "cell_type": "code",
   "execution_count": 86,
   "metadata": {},
   "outputs": [
    {
     "data": {
      "text/plain": [
       "False"
      ]
     },
     "execution_count": 86,
     "metadata": {},
     "output_type": "execute_result"
    }
   ],
   "source": [
    "'itedms' in testresp.json().keys()"
   ]
  },
  {
   "cell_type": "code",
   "execution_count": 100,
   "metadata": {},
   "outputs": [
    {
     "data": {
      "text/plain": [
       "3"
      ]
     },
     "execution_count": 100,
     "metadata": {},
     "output_type": "execute_result"
    }
   ],
   "source": [
    "103 % 100"
   ]
  },
  {
   "cell_type": "code",
   "execution_count": null,
   "metadata": {},
   "outputs": [],
   "source": []
  }
 ],
 "metadata": {
  "kernelspec": {
   "display_name": "Python 3",
   "language": "python",
   "name": "python3"
  },
  "language_info": {
   "codemirror_mode": {
    "name": "ipython",
    "version": 3
   },
   "file_extension": ".py",
   "mimetype": "text/x-python",
   "name": "python",
   "nbconvert_exporter": "python",
   "pygments_lexer": "ipython3",
   "version": "3.7.4"
  },
  "toc": {
   "base_numbering": 1,
   "nav_menu": {},
   "number_sections": true,
   "sideBar": true,
   "skip_h1_title": false,
   "title_cell": "Table of Contents",
   "title_sidebar": "Contents",
   "toc_cell": false,
   "toc_position": {},
   "toc_section_display": true,
   "toc_window_display": false
  },
  "varInspector": {
   "cols": {
    "lenName": 16,
    "lenType": 16,
    "lenVar": 40
   },
   "kernels_config": {
    "python": {
     "delete_cmd_postfix": "",
     "delete_cmd_prefix": "del ",
     "library": "var_list.py",
     "varRefreshCmd": "print(var_dic_list())"
    },
    "r": {
     "delete_cmd_postfix": ") ",
     "delete_cmd_prefix": "rm(",
     "library": "var_list.r",
     "varRefreshCmd": "cat(var_dic_list()) "
    }
   },
   "types_to_exclude": [
    "module",
    "function",
    "builtin_function_or_method",
    "instance",
    "_Feature"
   ],
   "window_display": false
  }
 },
 "nbformat": 4,
 "nbformat_minor": 2
}
