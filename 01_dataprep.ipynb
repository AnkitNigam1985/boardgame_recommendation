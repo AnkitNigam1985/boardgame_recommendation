{
 "cells": [
  {
   "cell_type": "markdown",
   "metadata": {},
   "source": [
    "contains all the code needed to prepare data"
   ]
  },
  {
   "cell_type": "code",
   "execution_count": 1,
   "metadata": {},
   "outputs": [],
   "source": [
    "import requests\n",
    "from bs4 import BeautifulSoup\n",
    "\n",
    "import os\n",
    "import json\n",
    "import csv\n",
    "import pandas as pd\n",
    "import numpy as np\n",
    "\n",
    "import time\n",
    "from datetime import datetime\n",
    "\n",
    "import bgg_data_func"
   ]
  },
  {
   "cell_type": "markdown",
   "metadata": {
    "heading_collapsed": true
   },
   "source": [
    "# Games Master List from BGG"
   ]
  },
  {
   "cell_type": "markdown",
   "metadata": {
    "hidden": true
   },
   "source": [
    "straightforward scraping"
   ]
  },
  {
   "cell_type": "code",
   "execution_count": null,
   "metadata": {
    "hidden": true
   },
   "outputs": [],
   "source": [
    "session = requests.Session()\n",
    "headers = {'User-Agent':'Mozilla/5.0 (Macintosh; Intel Mac OS X 10_9_5)'\\\n",
    "           'AppleWebKit 537.36 (KHTML, like Gecko) Chrome',\n",
    "           'Accept':'text/html,application/xhtml+xml,application/xml;'\\\n",
    "           'q=0.9,image/webp,*/*;q=0.8'}\n",
    "url = 'https://boardgamegeek.com/browse/boardgame?sort=rank'\n",
    "req = session.get(url, headers=headers)\n",
    "\n",
    "bs = BeautifulSoup(req.text, 'html.parser')"
   ]
  },
  {
   "cell_type": "code",
   "execution_count": null,
   "metadata": {
    "hidden": true
   },
   "outputs": [],
   "source": [
    "ranking_table = bs.find('table', {'class': 'collection_table'})"
   ]
  },
  {
   "cell_type": "code",
   "execution_count": null,
   "metadata": {
    "hidden": true
   },
   "outputs": [],
   "source": [
    "rows = ranking_table.findChildren(['th', 'tr'])"
   ]
  },
  {
   "cell_type": "code",
   "execution_count": null,
   "metadata": {
    "hidden": true
   },
   "outputs": [],
   "source": [
    "bg_name_list = []\n",
    "bg_link_list = []\n",
    "bg_year_list = []\n",
    "\n",
    "for row in rows[8:]:\n",
    "    cell = row.findChildren(['td'])[2]\n",
    "    bg_name = cell.find('a').text\n",
    "    bg_link = cell.find('a')['href']\n",
    "    bg_year = cell.find('span', {'class': 'smallerfont dull'}).text[1:-1]\n",
    "    \n",
    "    bg_name_list.append(bg_name)\n",
    "    bg_link_list.append(bg_link)\n",
    "    bg_year_list.append(bg_year)\n",
    "    \n",
    "games_master_list = pd.DataFrame(columns=['name', 'link', 'year'])\n",
    "games_master_list['name'] = bg_name_list\n",
    "games_master_list['link'] = bg_link_list\n",
    "games_master_list['year'] = bg_year_list"
   ]
  },
  {
   "cell_type": "code",
   "execution_count": null,
   "metadata": {
    "hidden": true
   },
   "outputs": [],
   "source": [
    "games_master_list.to_csv('games_master_list.csv', index=False)"
   ]
  },
  {
   "cell_type": "markdown",
   "metadata": {
    "hidden": true
   },
   "source": [
    "we have games_master_list.csv, with top 100 games, year, and link (which contains ID too)\n",
    "\n",
    "\n",
    "prob wont have to run this often"
   ]
  },
  {
   "cell_type": "markdown",
   "metadata": {},
   "source": [
    "# Import Master List"
   ]
  },
  {
   "cell_type": "code",
   "execution_count": 2,
   "metadata": {},
   "outputs": [],
   "source": [
    "df = pd.read_csv('games_master_list.csv')\n",
    "\n",
    "game_ids = df['link'].map(lambda x: bgg_data_func.link_to_gameid(x))"
   ]
  },
  {
   "cell_type": "markdown",
   "metadata": {
    "heading_collapsed": true
   },
   "source": [
    "# BGG API Calls"
   ]
  },
  {
   "cell_type": "markdown",
   "metadata": {
    "hidden": true
   },
   "source": [
    "in this section, looping through the 100 games\n",
    "\n",
    "\n",
    "for each game, looping through the ratings\n",
    "\n",
    "\n",
    "save ratings by 50 (100 doesnt work for some reason) in a json file in json_data folder"
   ]
  },
  {
   "cell_type": "code",
   "execution_count": 3,
   "metadata": {
    "hidden": true
   },
   "outputs": [
    {
     "data": {
      "text/plain": [
       "'123260'"
      ]
     },
     "execution_count": 3,
     "metadata": {},
     "output_type": "execute_result"
    }
   ],
   "source": [
    "game_ids[100]"
   ]
  },
  {
   "cell_type": "code",
   "execution_count": 4,
   "metadata": {
    "hidden": true
   },
   "outputs": [
    {
     "name": "stdout",
     "output_type": "stream",
     "text": [
      "244521\n",
      "50\n",
      "100\n",
      "150\n",
      "200\n",
      "250\n",
      "198928\n",
      "50\n",
      "100\n",
      "127023\n",
      "50\n",
      "100\n",
      "150\n",
      "200\n",
      "250\n",
      "300\n",
      "285774\n",
      "50\n",
      "103885\n",
      "50\n",
      "100\n",
      "150\n",
      "200\n",
      "250\n",
      "300\n",
      "350\n",
      "400\n",
      "196340\n",
      "50\n",
      "100\n",
      "150\n",
      "172287\n",
      "50\n",
      "100\n",
      "150\n",
      "200\n",
      "182874\n",
      "50\n",
      "100\n",
      "150\n",
      "200\n",
      "203993\n",
      "50\n",
      "100\n",
      "150\n",
      "175155\n",
      "50\n",
      "100\n",
      "34635\n",
      "50\n",
      "100\n",
      "150\n",
      "200\n",
      "250\n",
      "300\n",
      "350\n",
      "400\n",
      "450\n",
      "500\n",
      "550\n",
      "600\n",
      "650\n",
      "700\n",
      "750\n",
      "800\n",
      "150376\n",
      "50\n",
      "100\n",
      "150\n",
      "200\n",
      "250\n",
      "300\n",
      "350\n",
      "400\n",
      "450\n",
      "500\n",
      "550\n",
      "600\n",
      "650\n",
      "700\n",
      "161970\n",
      "50\n",
      "100\n",
      "150\n",
      "200\n",
      "250\n",
      "300\n",
      "104162\n",
      "50\n",
      "100\n",
      "150\n",
      "200\n",
      "250\n",
      "300\n",
      "350\n",
      "400\n",
      "147020\n",
      "50\n",
      "100\n",
      "150\n",
      "200\n",
      "250\n",
      "300\n",
      "350\n",
      "400\n",
      "450\n",
      "500\n",
      "550\n",
      "600\n",
      "650\n"
     ]
    }
   ],
   "source": [
    "# cell saves all available pages for a given gamelist, change game_ids parameters\n",
    "# works with other string IDs as well but must have a folder\n",
    "\n",
    "for game_id in game_ids[85:100]:\n",
    "    \n",
    "    print(game_id)\n",
    "    \n",
    "    page_num = 1\n",
    "    page_empty = False\n",
    "\n",
    "    while not page_empty:\n",
    "\n",
    "        page_empty = bgg_data_func.handle_one_api_request(game_id, page_num)\n",
    "\n",
    "        seconds_to_sleep = 3 + np.random.uniform(0,1)\n",
    "        time.sleep(seconds_to_sleep)\n",
    "        \n",
    "        page_num += 1\n",
    "        \n",
    "        if page_num % 50 == 0:\n",
    "            print(page_num)\n",
    "        \n",
    "    time.sleep(10)"
   ]
  },
  {
   "cell_type": "code",
   "execution_count": 8,
   "metadata": {
    "hidden": true
   },
   "outputs": [
    {
     "name": "stdout",
     "output_type": "stream",
     "text": [
      "400\n",
      "450\n",
      "500\n",
      "550\n"
     ]
    }
   ],
   "source": [
    "# this one just gets info for one game, from a certain page num\n",
    "\n",
    "game_id = '157354'\n",
    "page_num = 359\n",
    "rated_only = True\n",
    "\n",
    "page_empty = False\n",
    "\n",
    "while not page_empty:\n",
    "\n",
    "    # get API response\n",
    "    page_empty = bgg_data_func.handle_one_api_request(game_id, page_num, rated_only)\n",
    "\n",
    "    seconds_to_sleep = 2 + np.random.uniform(0,1)\n",
    "    time.sleep(seconds_to_sleep)\n",
    "\n",
    "    page_num += 1\n",
    "    \n",
    "    if page_num % 50 == 0:\n",
    "        print(page_num)"
   ]
  },
  {
   "cell_type": "code",
   "execution_count": 4,
   "metadata": {
    "hidden": true
   },
   "outputs": [
    {
     "data": {
      "text/plain": [
       "False"
      ]
     },
     "execution_count": 4,
     "metadata": {},
     "output_type": "execute_result"
    }
   ],
   "source": [
    "# and finally, this one is a given page num for a given game\n",
    "\n",
    "game_id = '28143'\n",
    "page_num = 808\n",
    "\n",
    "bgg_data_func.handle_one_api_request(game_id, page_num, False)"
   ]
  },
  {
   "cell_type": "markdown",
   "metadata": {},
   "source": [
    "# JSON Data Converter"
   ]
  },
  {
   "cell_type": "markdown",
   "metadata": {},
   "source": [
    "this section takes the raw json files the API returns, converts them into usable csvs"
   ]
  },
  {
   "cell_type": "code",
   "execution_count": 3,
   "metadata": {},
   "outputs": [],
   "source": [
    "# game_ids_to_convert = pd.concat([game_ids[49:100],(game_ids[-1:])])\n",
    "game_ids_to_convert = game_ids[49:100]\n"
   ]
  },
  {
   "cell_type": "code",
   "execution_count": 4,
   "metadata": {},
   "outputs": [
    {
     "data": {
      "text/plain": [
       "49     28143\n",
       "50    122515\n",
       "51    199792\n",
       "52     62219\n",
       "53    159675\n",
       "54     18602\n",
       "55    125153\n",
       "56    110327\n",
       "57    157354\n",
       "58    201808\n",
       "59     12493\n",
       "60        93\n",
       "61    205896\n",
       "62    146021\n",
       "63    172386\n",
       "64    229853\n",
       "65     40834\n",
       "66    161533\n",
       "67    247763\n",
       "68       521\n",
       "69    192135\n",
       "70     37111\n",
       "71     73439\n",
       "72    163412\n",
       "73    178900\n",
       "74    191189\n",
       "75    200680\n",
       "76    236457\n",
       "77    144733\n",
       "78    132531\n",
       "79        42\n",
       "80      2511\n",
       "81    102680\n",
       "82    170042\n",
       "83     36218\n",
       "84     30549\n",
       "85    244521\n",
       "86    198928\n",
       "87    127023\n",
       "88    285774\n",
       "89    103885\n",
       "90    196340\n",
       "91    172287\n",
       "92    182874\n",
       "93    203993\n",
       "94    175155\n",
       "95     34635\n",
       "96    150376\n",
       "97    161970\n",
       "98    104162\n",
       "99    147020\n",
       "Name: link, dtype: object"
      ]
     },
     "execution_count": 4,
     "metadata": {},
     "output_type": "execute_result"
    }
   ],
   "source": [
    "game_ids_to_convert"
   ]
  },
  {
   "cell_type": "code",
   "execution_count": 5,
   "metadata": {},
   "outputs": [
    {
     "name": "stdout",
     "output_type": "stream",
     "text": [
      "28143\n",
      "122515\n",
      "199792\n",
      "62219\n",
      "159675\n",
      "18602\n",
      "125153\n",
      "110327\n",
      "157354\n",
      "201808\n",
      "12493\n",
      "93\n",
      "205896\n",
      "146021\n",
      "172386\n",
      "229853\n",
      "40834\n",
      "161533\n",
      "247763\n",
      "521\n",
      "192135\n",
      "37111\n",
      "73439\n",
      "163412\n",
      "178900\n",
      "191189\n",
      "200680\n",
      "236457\n",
      "144733\n",
      "132531\n",
      "42\n",
      "2511\n",
      "102680\n",
      "170042\n",
      "36218\n",
      "30549\n",
      "244521\n",
      "198928\n",
      "127023\n",
      "285774\n",
      "103885\n",
      "196340\n",
      "172287\n",
      "182874\n",
      "203993\n",
      "175155\n",
      "34635\n",
      "150376\n",
      "161970\n",
      "104162\n",
      "147020\n"
     ]
    }
   ],
   "source": [
    "for game_id in game_ids_to_convert:\n",
    "    print(game_id)\n",
    "    bgg_data_func.create_csv_summary(game_id)"
   ]
  },
  {
   "cell_type": "markdown",
   "metadata": {},
   "source": [
    "# Create Data Summary"
   ]
  },
  {
   "cell_type": "markdown",
   "metadata": {},
   "source": [
    "this section loops through the csv summary files per game and creates files that can be imported to different models. saves them in data_inputs folder"
   ]
  },
  {
   "cell_type": "code",
   "execution_count": 6,
   "metadata": {},
   "outputs": [],
   "source": [
    "summary_filename = \"games_100\""
   ]
  },
  {
   "cell_type": "code",
   "execution_count": 7,
   "metadata": {},
   "outputs": [],
   "source": [
    "game_ids_to_merge = game_ids[:100]"
   ]
  },
  {
   "cell_type": "code",
   "execution_count": 8,
   "metadata": {},
   "outputs": [
    {
     "data": {
      "text/plain": [
       "100"
      ]
     },
     "execution_count": 8,
     "metadata": {},
     "output_type": "execute_result"
    }
   ],
   "source": [
    "len(game_ids_to_merge)"
   ]
  },
  {
   "cell_type": "code",
   "execution_count": 10,
   "metadata": {},
   "outputs": [],
   "source": [
    "for game_id in game_ids_to_merge:\n",
    "    \n",
    "    current_file = pd.read_csv('./json_data/game_' + game_id + '/' + game_id + '_summary.csv', header = None)\n",
    "    \n",
    "    current_file[2] = game_id\n",
    "    \n",
    "    with open('./data_input/' + summary_filename + '_summary.csv', 'a') as f:\n",
    "        writer = csv.writer(f)\n",
    "        writer.writerows(zip(current_file[0], current_file[2], current_file[1]))"
   ]
  },
  {
   "cell_type": "code",
   "execution_count": 13,
   "metadata": {},
   "outputs": [
    {
     "name": "stdout",
     "output_type": "stream",
     "text": [
      "2369886\n"
     ]
    }
   ],
   "source": [
    "# check length\n",
    "\n",
    "ratings_file = open('./data_input/' + summary_filename + '_summary.csv')\n",
    "reader = csv.reader(ratings_file)\n",
    "lines= len(list(reader))\n",
    "print(lines)"
   ]
  }
 ],
 "metadata": {
  "kernelspec": {
   "display_name": "Python 3",
   "language": "python",
   "name": "python3"
  },
  "language_info": {
   "codemirror_mode": {
    "name": "ipython",
    "version": 3
   },
   "file_extension": ".py",
   "mimetype": "text/x-python",
   "name": "python",
   "nbconvert_exporter": "python",
   "pygments_lexer": "ipython3",
   "version": "3.7.4"
  },
  "toc": {
   "base_numbering": 1,
   "nav_menu": {},
   "number_sections": true,
   "sideBar": true,
   "skip_h1_title": false,
   "title_cell": "Table of Contents",
   "title_sidebar": "Contents",
   "toc_cell": false,
   "toc_position": {},
   "toc_section_display": true,
   "toc_window_display": false
  },
  "varInspector": {
   "cols": {
    "lenName": 16,
    "lenType": 16,
    "lenVar": 40
   },
   "kernels_config": {
    "python": {
     "delete_cmd_postfix": "",
     "delete_cmd_prefix": "del ",
     "library": "var_list.py",
     "varRefreshCmd": "print(var_dic_list())"
    },
    "r": {
     "delete_cmd_postfix": ") ",
     "delete_cmd_prefix": "rm(",
     "library": "var_list.r",
     "varRefreshCmd": "cat(var_dic_list()) "
    }
   },
   "types_to_exclude": [
    "module",
    "function",
    "builtin_function_or_method",
    "instance",
    "_Feature"
   ],
   "window_display": false
  }
 },
 "nbformat": 4,
 "nbformat_minor": 2
}
