{
 "cells": [
  {
   "cell_type": "markdown",
   "metadata": {},
   "source": [
    "# Summary"
   ]
  },
  {
   "cell_type": "markdown",
   "metadata": {},
   "source": [
    "This notebook contains the code used in gathering the data from [boardgamegeek](https://boardgamegeek.com/).\n",
    "<br>\n",
    "\n",
    "First,we gather a master game list from the top 100 games by boardgamegeek's `geekrating` score, using `BeautifulSoup`, and save it in the file `games_master_list.csv`. \n",
    "<br>\n",
    "\n",
    "Then, using functions from the `bgg_data_func` file, we loop through all the games, and for each individual game, we save the ratings (as of March 31, 2020) in a json file, each file contains 50 ratings. These files are in the `json_data` folder. \n",
    "<br>\n",
    "\n",
    "In the next step, for each game, we loop through the `json` files, and create a summary file in a `csv` format, each having two columns: `user_name` and `rating`. These summary files are also saved in the `json_data` folder. \n",
    "<br>\n",
    "\n",
    "Finally, we loop through the games and combine their summary `csv` files into one file that has three columns: `user_name`, `game_id`, and `rating`. These are saved in the `data_input` folder, and can be directly imported to be used with the objects from the `surprise` library in the following Jupyter notebooks. "
   ]
  },
  {
   "cell_type": "code",
   "execution_count": 1,
   "metadata": {},
   "outputs": [],
   "source": [
    "import requests\n",
    "from bs4 import BeautifulSoup\n",
    "\n",
    "import os\n",
    "import json\n",
    "import csv\n",
    "import pandas as pd\n",
    "import numpy as np\n",
    "\n",
    "import time\n",
    "from datetime import datetime\n",
    "\n",
    "import bgg_data_func"
   ]
  },
  {
   "cell_type": "markdown",
   "metadata": {},
   "source": [
    "# Games Master List from BGG"
   ]
  },
  {
   "cell_type": "markdown",
   "metadata": {},
   "source": [
    "In this section, we gather a master game list from the top 100 games by boardgamegeek's `geekrating` score, using `BeautifulSoup`, and save it in the file `games_master_list.csv`. \n",
    "<br>\n",
    "\n",
    "The table is in this format: [boardgamegeek top 100](https://boardgamegeek.com/browse/boardgame), although please note that the list changes with time. My master game list comes from the site as of March 31, 2020. "
   ]
  },
  {
   "cell_type": "code",
   "execution_count": 2,
   "metadata": {},
   "outputs": [],
   "source": [
    "session = requests.Session()\n",
    "headers = {'User-Agent':'Mozilla/5.0 (Macintosh; Intel Mac OS X 10_9_5)'\\\n",
    "           'AppleWebKit 537.36 (KHTML, like Gecko) Chrome',\n",
    "           'Accept':'text/html,application/xhtml+xml,application/xml;'\\\n",
    "           'q=0.9,image/webp,*/*;q=0.8'}\n",
    "url = 'https://boardgamegeek.com/browse/boardgame?sort=rank'\n",
    "req = session.get(url, headers=headers)\n",
    "\n",
    "bs = BeautifulSoup(req.text, 'html.parser')"
   ]
  },
  {
   "cell_type": "code",
   "execution_count": 3,
   "metadata": {},
   "outputs": [],
   "source": [
    "ranking_table = bs.find('table', {'class': 'collection_table'})"
   ]
  },
  {
   "cell_type": "code",
   "execution_count": 4,
   "metadata": {},
   "outputs": [],
   "source": [
    "rows = ranking_table.findChildren(['th', 'tr'])"
   ]
  },
  {
   "cell_type": "code",
   "execution_count": 5,
   "metadata": {},
   "outputs": [],
   "source": [
    "bg_name_list = []\n",
    "bg_link_list = []\n",
    "bg_year_list = []\n",
    "\n",
    "for row in rows[8:]:\n",
    "    cell = row.findChildren(['td'])[2]\n",
    "    bg_name = cell.find('a').text\n",
    "    bg_link = cell.find('a')['href']\n",
    "    bg_year = cell.find('span', {'class': 'smallerfont dull'}).text[1:-1]\n",
    "    \n",
    "    bg_name_list.append(bg_name)\n",
    "    bg_link_list.append(bg_link)\n",
    "    bg_year_list.append(bg_year)\n",
    "    \n",
    "games_master_list = pd.DataFrame(columns=['name', 'link', 'year'])\n",
    "games_master_list['name'] = bg_name_list\n",
    "games_master_list['link'] = bg_link_list\n",
    "games_master_list['year'] = bg_year_list"
   ]
  },
  {
   "cell_type": "code",
   "execution_count": 6,
   "metadata": {},
   "outputs": [],
   "source": [
    "games_master_list.to_csv('games_master_list.csv', index=False)"
   ]
  },
  {
   "cell_type": "markdown",
   "metadata": {},
   "source": [
    "# Import Master List"
   ]
  },
  {
   "cell_type": "markdown",
   "metadata": {},
   "source": [
    "Work in the remainder of the notebook starts with importing the master list. "
   ]
  },
  {
   "cell_type": "code",
   "execution_count": 2,
   "metadata": {},
   "outputs": [],
   "source": [
    "df = pd.read_csv('games_master_list.csv')\n",
    "\n",
    "game_ids = df['link'].map(lambda x: bgg_data_func.link_to_gameid(x))"
   ]
  },
  {
   "cell_type": "markdown",
   "metadata": {},
   "source": [
    "# BGG API Calls"
   ]
  },
  {
   "cell_type": "markdown",
   "metadata": {},
   "source": [
    "In this section, using functions from the `bgg_data_func` file, we loop through all the games, and for each individual game, we save the ratings (as of March 31, 2020) in a json file, each file contains 50 ratings. These files are in the `json_data` folder. \n",
    "<br>\n",
    "\n",
    "I used three different process, they can be all run from their corresponding cells, after adjusting the `game_id`, `page_num`, and `rated_only` parameters. The three different processes:\n",
    "- collect all the pages for all the games in a certain range\n",
    "- collect pages of one game, starting from a specific page\n",
    "- collect one specific page of one game"
   ]
  },
  {
   "cell_type": "code",
   "execution_count": 7,
   "metadata": {},
   "outputs": [],
   "source": [
    "# cell saves all available pages for a given gamelist, change game_ids parameters\n",
    "# works with other string IDs as well but must have a folder\n",
    "\n",
    "for game_id in game_ids[85:100]:\n",
    "    \n",
    "    print(game_id)\n",
    "    \n",
    "    page_num = 1\n",
    "    page_empty = False\n",
    "\n",
    "    while not page_empty:\n",
    "\n",
    "        page_empty = bgg_data_func.handle_one_api_request(game_id, page_num)\n",
    "\n",
    "        seconds_to_sleep = 3 + np.random.uniform(0,1)\n",
    "        time.sleep(seconds_to_sleep)\n",
    "        \n",
    "        page_num += 1\n",
    "        \n",
    "        if page_num % 50 == 0:\n",
    "            print(page_num)\n",
    "        \n",
    "    time.sleep(10)"
   ]
  },
  {
   "cell_type": "code",
   "execution_count": 8,
   "metadata": {},
   "outputs": [],
   "source": [
    "# this one just gets info for one game, from a certain page num\n",
    "\n",
    "game_id = '157354'\n",
    "page_num = 359\n",
    "rated_only = True\n",
    "\n",
    "page_empty = False\n",
    "\n",
    "while not page_empty:\n",
    "\n",
    "    # get API response\n",
    "    page_empty = bgg_data_func.handle_one_api_request(game_id, page_num, rated_only)\n",
    "\n",
    "    seconds_to_sleep = 2 + np.random.uniform(0,1)\n",
    "    time.sleep(seconds_to_sleep)\n",
    "\n",
    "    page_num += 1\n",
    "    \n",
    "    if page_num % 50 == 0:\n",
    "        print(page_num)"
   ]
  },
  {
   "cell_type": "code",
   "execution_count": 9,
   "metadata": {},
   "outputs": [],
   "source": [
    "# and finally, this one is a given page num for a given game\n",
    "\n",
    "game_id = '28143'\n",
    "page_num = 808\n",
    "\n",
    "bgg_data_func.handle_one_api_request(game_id, page_num, False)"
   ]
  },
  {
   "cell_type": "markdown",
   "metadata": {},
   "source": [
    "# JSON Data Converter"
   ]
  },
  {
   "cell_type": "markdown",
   "metadata": {},
   "source": [
    "For each game, we loop through the `json` files, and create a summary file in a `csv` format, each having two columns: `user_name` and `rating`. These summary files are also saved in the `json_data` folder. "
   ]
  },
  {
   "cell_type": "code",
   "execution_count": 10,
   "metadata": {},
   "outputs": [],
   "source": [
    "# game_ids_to_convert = pd.concat([game_ids[49:100],(game_ids[-1:])])\n",
    "game_ids_to_convert = game_ids[49:100]"
   ]
  },
  {
   "cell_type": "code",
   "execution_count": 11,
   "metadata": {},
   "outputs": [],
   "source": [
    "for game_id in game_ids_to_convert:\n",
    "    print(game_id)\n",
    "    bgg_data_func.create_csv_summary(game_id)"
   ]
  },
  {
   "cell_type": "markdown",
   "metadata": {},
   "source": [
    "# Create Data Summary"
   ]
  },
  {
   "cell_type": "markdown",
   "metadata": {},
   "source": [
    "Finally, we loop through the games and combine their summary `csv` files into one file that has three columns: `user_name`, `game_id`, and `rating`. These are saved in the `data_input` folder, and can be directly imported to be used with the objects from the `surprise` library in the following Jupyter notebooks. "
   ]
  },
  {
   "cell_type": "code",
   "execution_count": 12,
   "metadata": {},
   "outputs": [],
   "source": [
    "summary_filename = \"games_100\""
   ]
  },
  {
   "cell_type": "code",
   "execution_count": 13,
   "metadata": {},
   "outputs": [],
   "source": [
    "game_ids_to_merge = game_ids[:100]"
   ]
  },
  {
   "cell_type": "code",
   "execution_count": 14,
   "metadata": {},
   "outputs": [],
   "source": [
    "for game_id in game_ids_to_merge:\n",
    "    \n",
    "    current_file = pd.read_csv('./json_data/game_' + game_id + '/' + game_id + '_summary.csv', header = None)\n",
    "    \n",
    "    current_file[2] = game_id\n",
    "    \n",
    "    with open('./data_input/' + summary_filename + '_summary.csv', 'a') as f:\n",
    "        writer = csv.writer(f)\n",
    "        writer.writerows(zip(current_file[0], current_file[2], current_file[1]))"
   ]
  },
  {
   "cell_type": "code",
   "execution_count": 15,
   "metadata": {},
   "outputs": [],
   "source": [
    "# check length\n",
    "\n",
    "ratings_file = open('./data_input/' + summary_filename + '_summary.csv')\n",
    "reader = csv.reader(ratings_file)\n",
    "lines= len(list(reader))\n",
    "print(lines)"
   ]
  },
  {
   "cell_type": "markdown",
   "metadata": {},
   "source": [
    "With that step, the data preparation is complete, recommender system can be started by importing the `games_100_summary.csv` file."
   ]
  }
 ],
 "metadata": {
  "kernelspec": {
   "display_name": "Python 3",
   "language": "python",
   "name": "python3"
  },
  "language_info": {
   "codemirror_mode": {
    "name": "ipython",
    "version": 3
   },
   "file_extension": ".py",
   "mimetype": "text/x-python",
   "name": "python",
   "nbconvert_exporter": "python",
   "pygments_lexer": "ipython3",
   "version": "3.7.4"
  },
  "toc": {
   "base_numbering": 1,
   "nav_menu": {},
   "number_sections": true,
   "sideBar": true,
   "skip_h1_title": false,
   "title_cell": "Table of Contents",
   "title_sidebar": "Contents",
   "toc_cell": false,
   "toc_position": {},
   "toc_section_display": true,
   "toc_window_display": false
  },
  "varInspector": {
   "cols": {
    "lenName": 16,
    "lenType": 16,
    "lenVar": 40
   },
   "kernels_config": {
    "python": {
     "delete_cmd_postfix": "",
     "delete_cmd_prefix": "del ",
     "library": "var_list.py",
     "varRefreshCmd": "print(var_dic_list())"
    },
    "r": {
     "delete_cmd_postfix": ") ",
     "delete_cmd_prefix": "rm(",
     "library": "var_list.r",
     "varRefreshCmd": "cat(var_dic_list()) "
    }
   },
   "types_to_exclude": [
    "module",
    "function",
    "builtin_function_or_method",
    "instance",
    "_Feature"
   ],
   "window_display": false
  }
 },
 "nbformat": 4,
 "nbformat_minor": 2
}
