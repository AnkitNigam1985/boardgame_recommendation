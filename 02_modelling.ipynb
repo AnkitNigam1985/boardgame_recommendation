{
 "cells": [
  {
   "cell_type": "markdown",
   "metadata": {},
   "source": [
    "# Memory Based Model"
   ]
  },
  {
   "cell_type": "markdown",
   "metadata": {},
   "source": [
    "this calculates nearest users"
   ]
  },
  {
   "cell_type": "code",
   "execution_count": null,
   "metadata": {},
   "outputs": [],
   "source": [
    "from surprise import SVD\n",
    "from surprise import Dataset\n",
    "from surprise.model_selection import cross_validate\n",
    "from surprise import accuracy\n",
    "from surprise.model_selection import train_test_split\n",
    "from surprise import Reader\n",
    "from surprise.model_selection import KFold\n",
    "\n",
    "from surprise.prediction_algorithms import knns\n",
    "from surprise.similarities import cosine, msd, pearson\n",
    "\n",
    "import pandas as pd\n",
    "\n",
    "from surprise.model_selection import GridSearchCV\n",
    "\n",
    "import bgg_data_func\n",
    "\n",
    "import bgg_model_func\n",
    "\n",
    "from game_name_converter import NameConverter"
   ]
  },
  {
   "cell_type": "code",
   "execution_count": 3,
   "metadata": {},
   "outputs": [],
   "source": [
    "file_path = './data_input/games_100_summary.csv'\n",
    "\n",
    "reader = Reader(line_format='user item rating', sep=',', rating_scale = (1,10))\n",
    "\n",
    "data = Dataset.load_from_file(file_path, reader=reader)"
   ]
  },
  {
   "cell_type": "code",
   "execution_count": 4,
   "metadata": {},
   "outputs": [],
   "source": [
    "trainset, testset = train_test_split(data, test_size=0.2)"
   ]
  },
  {
   "cell_type": "code",
   "execution_count": 5,
   "metadata": {},
   "outputs": [
    {
     "name": "stdout",
     "output_type": "stream",
     "text": [
      "Number of users:  225960 \n",
      "\n",
      "Number of items:  100 \n",
      "\n"
     ]
    }
   ],
   "source": [
    "print('Number of users: ', trainset.n_users, '\\n')\n",
    "print('Number of items: ', trainset.n_items, '\\n')"
   ]
  },
  {
   "cell_type": "code",
   "execution_count": 6,
   "metadata": {},
   "outputs": [
    {
     "name": "stdout",
     "output_type": "stream",
     "text": [
      "Number of users:  237253 \n",
      "\n",
      "Number of items:  100 \n",
      "\n"
     ]
    }
   ],
   "source": [
    "trainsetfull = data.build_full_trainset()\n",
    "print('Number of users: ', trainsetfull.n_users, '\\n')\n",
    "print('Number of items: ', trainsetfull.n_items, '\\n')"
   ]
  },
  {
   "cell_type": "code",
   "execution_count": 7,
   "metadata": {},
   "outputs": [],
   "source": [
    "trainset_iids = list(trainset.all_items())\n",
    "iid_converter = lambda x: trainset.to_raw_iid(x)\n",
    "trainset_raw_iids = list(map(iid_converter, trainset_iids))"
   ]
  },
  {
   "cell_type": "code",
   "execution_count": 8,
   "metadata": {},
   "outputs": [
    {
     "data": {
      "text/plain": [
       "'The Castles of Burgundy'"
      ]
     },
     "execution_count": 8,
     "metadata": {},
     "output_type": "execute_result"
    }
   ],
   "source": [
    "name_converter = NameConverter('games_master_list.csv')\n",
    "name_converter.get_game_name_from_id(84876)"
   ]
  },
  {
   "cell_type": "markdown",
   "metadata": {},
   "source": [
    "## Similarity"
   ]
  },
  {
   "cell_type": "code",
   "execution_count": 9,
   "metadata": {},
   "outputs": [
    {
     "name": "stdout",
     "output_type": "stream",
     "text": [
      "Computing the cosine similarity matrix...\n",
      "Done computing similarity matrix.\n",
      "RMSE: 1.3110\n",
      "1.311037237549197\n"
     ]
    }
   ],
   "source": [
    "sim_cos = {'name':'cosine', 'user_based':False}\n",
    "basic_cos = knns.KNNBasic(sim_options=sim_cos)\n",
    "basic_cos.fit(trainset)\n",
    "predictions = basic_cos.test(testset)\n",
    "print(accuracy.rmse(predictions))"
   ]
  },
  {
   "cell_type": "code",
   "execution_count": 10,
   "metadata": {},
   "outputs": [
    {
     "data": {
      "text/html": [
       "<div>\n",
       "<style scoped>\n",
       "    .dataframe tbody tr th:only-of-type {\n",
       "        vertical-align: middle;\n",
       "    }\n",
       "\n",
       "    .dataframe tbody tr th {\n",
       "        vertical-align: top;\n",
       "    }\n",
       "\n",
       "    .dataframe thead th {\n",
       "        text-align: right;\n",
       "    }\n",
       "</style>\n",
       "<table border=\"1\" class=\"dataframe\">\n",
       "  <thead>\n",
       "    <tr style=\"text-align: right;\">\n",
       "      <th></th>\n",
       "      <th>game</th>\n",
       "      <th>similar_1</th>\n",
       "      <th>similar_2</th>\n",
       "      <th>similar_3</th>\n",
       "    </tr>\n",
       "  </thead>\n",
       "  <tbody>\n",
       "    <tr>\n",
       "      <th>36</th>\n",
       "      <td>7 Wonders</td>\n",
       "      <td>7 Wonders Duel</td>\n",
       "      <td>Azul</td>\n",
       "      <td>Stone Age</td>\n",
       "    </tr>\n",
       "    <tr>\n",
       "      <th>33</th>\n",
       "      <td>7 Wonders Duel</td>\n",
       "      <td>7 Wonders</td>\n",
       "      <td>Underwater Cities</td>\n",
       "      <td>Azul</td>\n",
       "    </tr>\n",
       "    <tr>\n",
       "      <th>6</th>\n",
       "      <td>A Feast for Odin</td>\n",
       "      <td>Fields of Arle</td>\n",
       "      <td>Caverna: The Cave Farmers</td>\n",
       "      <td>Yokohama</td>\n",
       "    </tr>\n",
       "    <tr>\n",
       "      <th>46</th>\n",
       "      <td>Aeon's End</td>\n",
       "      <td>Pandemic: Iberia</td>\n",
       "      <td>Everdell</td>\n",
       "      <td>Marvel Champions: The Card Game</td>\n",
       "    </tr>\n",
       "    <tr>\n",
       "      <th>35</th>\n",
       "      <td>Agricola</td>\n",
       "      <td>Agricola (Revised Edition)</td>\n",
       "      <td>Fields of Arle</td>\n",
       "      <td>Le Havre</td>\n",
       "    </tr>\n",
       "    <tr>\n",
       "      <th>...</th>\n",
       "      <td>...</td>\n",
       "      <td>...</td>\n",
       "      <td>...</td>\n",
       "      <td>...</td>\n",
       "    </tr>\n",
       "    <tr>\n",
       "      <th>92</th>\n",
       "      <td>Underwater Cities</td>\n",
       "      <td>Yokohama</td>\n",
       "      <td>Clans of Caledonia</td>\n",
       "      <td>Teotihuacan: City of Gods</td>\n",
       "    </tr>\n",
       "    <tr>\n",
       "      <th>30</th>\n",
       "      <td>Viticulture Essential Edition</td>\n",
       "      <td>Wingspan</td>\n",
       "      <td>Raiders of the North Sea</td>\n",
       "      <td>Architects of the West Kingdom</td>\n",
       "    </tr>\n",
       "    <tr>\n",
       "      <th>66</th>\n",
       "      <td>War of the Ring (Second Edition)</td>\n",
       "      <td>Star Wars: Rebellion</td>\n",
       "      <td>Forbidden Stars</td>\n",
       "      <td>Root</td>\n",
       "    </tr>\n",
       "    <tr>\n",
       "      <th>19</th>\n",
       "      <td>Wingspan</td>\n",
       "      <td>Viticulture Essential Edition</td>\n",
       "      <td>Raiders of the North Sea</td>\n",
       "      <td>Architects of the West Kingdom</td>\n",
       "    </tr>\n",
       "    <tr>\n",
       "      <th>87</th>\n",
       "      <td>Yokohama</td>\n",
       "      <td>Mombasa</td>\n",
       "      <td>Lorenzo il Magnifico</td>\n",
       "      <td>Concordia</td>\n",
       "    </tr>\n",
       "  </tbody>\n",
       "</table>\n",
       "<p>100 rows × 4 columns</p>\n",
       "</div>"
      ],
      "text/plain": [
       "                                game                      similar_1  \\\n",
       "36                         7 Wonders                 7 Wonders Duel   \n",
       "33                    7 Wonders Duel                      7 Wonders   \n",
       "6                   A Feast for Odin                 Fields of Arle   \n",
       "46                        Aeon's End               Pandemic: Iberia   \n",
       "35                          Agricola     Agricola (Revised Edition)   \n",
       "..                               ...                            ...   \n",
       "92                 Underwater Cities                       Yokohama   \n",
       "30     Viticulture Essential Edition                       Wingspan   \n",
       "66  War of the Ring (Second Edition)           Star Wars: Rebellion   \n",
       "19                          Wingspan  Viticulture Essential Edition   \n",
       "87                          Yokohama                        Mombasa   \n",
       "\n",
       "                    similar_2                        similar_3  \n",
       "36                       Azul                        Stone Age  \n",
       "33          Underwater Cities                             Azul  \n",
       "6   Caverna: The Cave Farmers                         Yokohama  \n",
       "46                   Everdell  Marvel Champions: The Card Game  \n",
       "35             Fields of Arle                         Le Havre  \n",
       "..                        ...                              ...  \n",
       "92         Clans of Caledonia        Teotihuacan: City of Gods  \n",
       "30   Raiders of the North Sea   Architects of the West Kingdom  \n",
       "66            Forbidden Stars                             Root  \n",
       "19   Raiders of the North Sea   Architects of the West Kingdom  \n",
       "87       Lorenzo il Magnifico                        Concordia  \n",
       "\n",
       "[100 rows x 4 columns]"
      ]
     },
     "execution_count": 10,
     "metadata": {},
     "output_type": "execute_result"
    }
   ],
   "source": [
    "df = bgg_model_func.return_top_similar_dataframe(basic_cos.sim, trainset_raw_iids, 3)\n",
    "for column in df.columns:\n",
    "    df[column] = df[column].map(name_converter.get_game_name_from_id)\n",
    "df.sort_values(['game'], inplace = True, axis = 0)\n",
    "df[:100]"
   ]
  },
  {
   "cell_type": "code",
   "execution_count": 11,
   "metadata": {},
   "outputs": [
    {
     "name": "stdout",
     "output_type": "stream",
     "text": [
      "Computing the pearson similarity matrix...\n",
      "Done computing similarity matrix.\n",
      "RMSE: 1.2910\n",
      "1.2910256925184096\n"
     ]
    }
   ],
   "source": [
    "sim_pearson = {'name':'pearson', 'user_based':False}\n",
    "basic_pearson = knns.KNNBasic(sim_options=sim_pearson)\n",
    "basic_pearson.fit(trainset)\n",
    "predictions = basic_pearson.test(testset)\n",
    "print(accuracy.rmse(predictions))"
   ]
  },
  {
   "cell_type": "code",
   "execution_count": 12,
   "metadata": {},
   "outputs": [
    {
     "data": {
      "text/html": [
       "<div>\n",
       "<style scoped>\n",
       "    .dataframe tbody tr th:only-of-type {\n",
       "        vertical-align: middle;\n",
       "    }\n",
       "\n",
       "    .dataframe tbody tr th {\n",
       "        vertical-align: top;\n",
       "    }\n",
       "\n",
       "    .dataframe thead th {\n",
       "        text-align: right;\n",
       "    }\n",
       "</style>\n",
       "<table border=\"1\" class=\"dataframe\">\n",
       "  <thead>\n",
       "    <tr style=\"text-align: right;\">\n",
       "      <th></th>\n",
       "      <th>game</th>\n",
       "      <th>similar_1</th>\n",
       "      <th>similar_2</th>\n",
       "      <th>similar_3</th>\n",
       "    </tr>\n",
       "  </thead>\n",
       "  <tbody>\n",
       "    <tr>\n",
       "      <th>36</th>\n",
       "      <td>7 Wonders</td>\n",
       "      <td>7 Wonders Duel</td>\n",
       "      <td>Stone Age</td>\n",
       "      <td>Lords of Waterdeep</td>\n",
       "    </tr>\n",
       "    <tr>\n",
       "      <th>33</th>\n",
       "      <td>7 Wonders Duel</td>\n",
       "      <td>7 Wonders</td>\n",
       "      <td>Champions of Midgard</td>\n",
       "      <td>Five Tribes</td>\n",
       "    </tr>\n",
       "    <tr>\n",
       "      <th>6</th>\n",
       "      <td>A Feast for Odin</td>\n",
       "      <td>Fields of Arle</td>\n",
       "      <td>Caverna: The Cave Farmers</td>\n",
       "      <td>Yokohama</td>\n",
       "    </tr>\n",
       "    <tr>\n",
       "      <th>46</th>\n",
       "      <td>Aeon's End</td>\n",
       "      <td>Pandemic: Iberia</td>\n",
       "      <td>Too Many Bones</td>\n",
       "      <td>Mechs vs. Minions</td>\n",
       "    </tr>\n",
       "    <tr>\n",
       "      <th>35</th>\n",
       "      <td>Agricola</td>\n",
       "      <td>Agricola (Revised Edition)</td>\n",
       "      <td>Le Havre</td>\n",
       "      <td>Caverna: The Cave Farmers</td>\n",
       "    </tr>\n",
       "    <tr>\n",
       "      <th>...</th>\n",
       "      <td>...</td>\n",
       "      <td>...</td>\n",
       "      <td>...</td>\n",
       "      <td>...</td>\n",
       "    </tr>\n",
       "    <tr>\n",
       "      <th>92</th>\n",
       "      <td>Underwater Cities</td>\n",
       "      <td>Teotihuacan: City of Gods</td>\n",
       "      <td>Yokohama</td>\n",
       "      <td>Fields of Arle</td>\n",
       "    </tr>\n",
       "    <tr>\n",
       "      <th>30</th>\n",
       "      <td>Viticulture Essential Edition</td>\n",
       "      <td>Wingspan</td>\n",
       "      <td>Raiders of the North Sea</td>\n",
       "      <td>Scythe</td>\n",
       "    </tr>\n",
       "    <tr>\n",
       "      <th>66</th>\n",
       "      <td>War of the Ring (Second Edition)</td>\n",
       "      <td>Forbidden Stars</td>\n",
       "      <td>Star Wars: Rebellion</td>\n",
       "      <td>Kingdom Death: Monster</td>\n",
       "    </tr>\n",
       "    <tr>\n",
       "      <th>19</th>\n",
       "      <td>Wingspan</td>\n",
       "      <td>Viticulture Essential Edition</td>\n",
       "      <td>Everdell</td>\n",
       "      <td>Architects of the West Kingdom</td>\n",
       "    </tr>\n",
       "    <tr>\n",
       "      <th>87</th>\n",
       "      <td>Yokohama</td>\n",
       "      <td>Lisboa</td>\n",
       "      <td>Mombasa</td>\n",
       "      <td>Clans of Caledonia</td>\n",
       "    </tr>\n",
       "  </tbody>\n",
       "</table>\n",
       "<p>100 rows × 4 columns</p>\n",
       "</div>"
      ],
      "text/plain": [
       "                                game                      similar_1  \\\n",
       "36                         7 Wonders                 7 Wonders Duel   \n",
       "33                    7 Wonders Duel                      7 Wonders   \n",
       "6                   A Feast for Odin                 Fields of Arle   \n",
       "46                        Aeon's End               Pandemic: Iberia   \n",
       "35                          Agricola     Agricola (Revised Edition)   \n",
       "..                               ...                            ...   \n",
       "92                 Underwater Cities      Teotihuacan: City of Gods   \n",
       "30     Viticulture Essential Edition                       Wingspan   \n",
       "66  War of the Ring (Second Edition)                Forbidden Stars   \n",
       "19                          Wingspan  Viticulture Essential Edition   \n",
       "87                          Yokohama                         Lisboa   \n",
       "\n",
       "                    similar_2                       similar_3  \n",
       "36                  Stone Age              Lords of Waterdeep  \n",
       "33       Champions of Midgard                     Five Tribes  \n",
       "6   Caverna: The Cave Farmers                        Yokohama  \n",
       "46             Too Many Bones               Mechs vs. Minions  \n",
       "35                   Le Havre       Caverna: The Cave Farmers  \n",
       "..                        ...                             ...  \n",
       "92                   Yokohama                  Fields of Arle  \n",
       "30   Raiders of the North Sea                          Scythe  \n",
       "66       Star Wars: Rebellion          Kingdom Death: Monster  \n",
       "19                   Everdell  Architects of the West Kingdom  \n",
       "87                    Mombasa              Clans of Caledonia  \n",
       "\n",
       "[100 rows x 4 columns]"
      ]
     },
     "execution_count": 12,
     "metadata": {},
     "output_type": "execute_result"
    }
   ],
   "source": [
    "df = bgg_model_func.return_top_similar_dataframe(basic_pearson.sim, trainset_raw_iids, 3)\n",
    "for column in df.columns:\n",
    "    df[column] = df[column].map(name_converter.get_game_name_from_id)\n",
    "df.sort_values(['game'], inplace = True)\n",
    "df"
   ]
  },
  {
   "cell_type": "code",
   "execution_count": 13,
   "metadata": {},
   "outputs": [
    {
     "name": "stdout",
     "output_type": "stream",
     "text": [
      "Computing the pearson similarity matrix...\n",
      "Done computing similarity matrix.\n",
      "RMSE: 1.2619\n",
      "1.2618971245614796\n"
     ]
    }
   ],
   "source": [
    "sim_pearson = {'name':'pearson', 'user_based':False}\n",
    "knn_means = knns.KNNWithMeans(sim_options=sim_pearson)\n",
    "knn_means.fit(trainset)\n",
    "predictions = knn_means.test(testset)\n",
    "print(accuracy.rmse(predictions))"
   ]
  },
  {
   "cell_type": "code",
   "execution_count": 14,
   "metadata": {},
   "outputs": [],
   "source": [
    "# sim: same as above, just calculation is different"
   ]
  },
  {
   "cell_type": "code",
   "execution_count": 15,
   "metadata": {},
   "outputs": [
    {
     "name": "stdout",
     "output_type": "stream",
     "text": [
      "Estimating biases using als...\n",
      "Computing the pearson similarity matrix...\n",
      "Done computing similarity matrix.\n",
      "RMSE: 1.2568\n",
      "1.256829138184341\n"
     ]
    }
   ],
   "source": [
    "sim_pearson = {'name':'pearson', 'user_based':False}\n",
    "knn_baseline = knns.KNNBaseline(sim_options=sim_pearson)\n",
    "knn_baseline.fit(trainset)\n",
    "predictions = knn_baseline.test(testset)\n",
    "print(accuracy.rmse(predictions))"
   ]
  },
  {
   "cell_type": "markdown",
   "metadata": {},
   "source": [
    "# Model Based"
   ]
  },
  {
   "cell_type": "markdown",
   "metadata": {},
   "source": [
    "this uses maxtor factorization"
   ]
  },
  {
   "cell_type": "code",
   "execution_count": 16,
   "metadata": {},
   "outputs": [
    {
     "name": "stdout",
     "output_type": "stream",
     "text": [
      "RMSE: 1.3358\n"
     ]
    },
    {
     "data": {
      "text/plain": [
       "1.3357673434348671"
      ]
     },
     "execution_count": 16,
     "metadata": {},
     "output_type": "execute_result"
    }
   ],
   "source": [
    "# We'll use the famous SVD algorithm.\n",
    "algo = SVD()\n",
    "\n",
    "# Train the algorithm on the trainset, and predict ratings for the testset\n",
    "algo.fit(trainset)\n",
    "predictions = algo.test(testset)\n",
    "\n",
    "# Then compute RMSE\n",
    "accuracy.rmse(predictions)"
   ]
  },
  {
   "cell_type": "code",
   "execution_count": 17,
   "metadata": {},
   "outputs": [
    {
     "name": "stderr",
     "output_type": "stream",
     "text": [
      "[Parallel(n_jobs=-1)]: Using backend LokyBackend with 4 concurrent workers.\n",
      "[Parallel(n_jobs=-1)]: Done  10 tasks      | elapsed:  7.5min\n",
      "[Parallel(n_jobs=-1)]: Done  64 tasks      | elapsed: 46.1min\n",
      "[Parallel(n_jobs=-1)]: Done 154 tasks      | elapsed: 110.8min\n",
      "[Parallel(n_jobs=-1)]: Done 180 out of 180 | elapsed: 130.7min finished\n"
     ]
    }
   ],
   "source": [
    "param_grid_2 = {'n_factors':[5, 10,20],'n_epochs': [5, 10, 20], 'lr_all': [0.002, 0.005],\n",
    "              'reg_all': [0.4, 0.6]}\n",
    "\n",
    "gs_model_2 = GridSearchCV(SVD,param_grid=param_grid_2,n_jobs = -1,joblib_verbose=5)\n",
    "gs_model_2.fit(data)"
   ]
  },
  {
   "cell_type": "code",
   "execution_count": 20,
   "metadata": {},
   "outputs": [
    {
     "data": {
      "text/plain": [
       "{'rmse': {'n_factors': 20, 'n_epochs': 20, 'lr_all': 0.005, 'reg_all': 0.6},\n",
       " 'mae': {'n_factors': 20, 'n_epochs': 20, 'lr_all': 0.005, 'reg_all': 0.6}}"
      ]
     },
     "execution_count": 20,
     "metadata": {},
     "output_type": "execute_result"
    }
   ],
   "source": [
    "gs_model_2.best_params"
   ]
  },
  {
   "cell_type": "code",
   "execution_count": 22,
   "metadata": {},
   "outputs": [
    {
     "name": "stdout",
     "output_type": "stream",
     "text": [
      "RMSE: 1.3232\n",
      "1.3232164478061834\n"
     ]
    }
   ],
   "source": [
    "svd2 = SVD(n_factors=20, n_epochs=20, lr_all=0.005, reg_all=0.6)\n",
    "svd2.fit(trainset)\n",
    "predictions = svd2.test(testset)\n",
    "print(accuracy.rmse(predictions))"
   ]
  },
  {
   "cell_type": "code",
   "execution_count": 23,
   "metadata": {},
   "outputs": [
    {
     "name": "stderr",
     "output_type": "stream",
     "text": [
      "[Parallel(n_jobs=-1)]: Using backend LokyBackend with 4 concurrent workers.\n",
      "[Parallel(n_jobs=-1)]: Done  10 tasks      | elapsed:  8.5min\n",
      "[Parallel(n_jobs=-1)]: Done  45 out of  45 | elapsed: 35.1min finished\n"
     ]
    }
   ],
   "source": [
    "param_grid_3 = {'n_factors':[20],'n_epochs': [20], 'lr_all': [0.004, 0.005, 0.006],\n",
    "              'reg_all': [0.5, 0.6, 0.7]}\n",
    "\n",
    "gs_model_3 = GridSearchCV(SVD,param_grid=param_grid_3,n_jobs = -1,joblib_verbose=5)\n",
    "gs_model_3.fit(data)"
   ]
  },
  {
   "cell_type": "code",
   "execution_count": 25,
   "metadata": {},
   "outputs": [
    {
     "data": {
      "text/plain": [
       "{'rmse': {'n_factors': 20, 'n_epochs': 20, 'lr_all': 0.006, 'reg_all': 0.7},\n",
       " 'mae': {'n_factors': 20, 'n_epochs': 20, 'lr_all': 0.006, 'reg_all': 0.5}}"
      ]
     },
     "execution_count": 25,
     "metadata": {},
     "output_type": "execute_result"
    }
   ],
   "source": [
    "gs_model_3.best_params"
   ]
  },
  {
   "cell_type": "code",
   "execution_count": null,
   "metadata": {},
   "outputs": [
    {
     "name": "stderr",
     "output_type": "stream",
     "text": [
      "[Parallel(n_jobs=-1)]: Using backend LokyBackend with 4 concurrent workers.\n",
      "[Parallel(n_jobs=-1)]: Done  10 tasks      | elapsed:  8.4min\n",
      "[Parallel(n_jobs=-1)]: Done  64 tasks      | elapsed: 49.9min\n"
     ]
    }
   ],
   "source": [
    "param_grid_4 = {'n_factors':[20, 30],'n_epochs': [20], 'lr_all': [0.006, 0.01, 0.015],\n",
    "              'reg_all': [0.7, 1, 1.5]}\n",
    "\n",
    "gs_model_4 = GridSearchCV(SVD,param_grid=param_grid_4,n_jobs = -1,joblib_verbose=5)\n",
    "gs_model_4.fit(data)"
   ]
  },
  {
   "cell_type": "code",
   "execution_count": null,
   "metadata": {},
   "outputs": [],
   "source": []
  },
  {
   "cell_type": "code",
   "execution_count": null,
   "metadata": {},
   "outputs": [],
   "source": []
  },
  {
   "cell_type": "code",
   "execution_count": null,
   "metadata": {},
   "outputs": [],
   "source": []
  },
  {
   "cell_type": "code",
   "execution_count": null,
   "metadata": {},
   "outputs": [],
   "source": []
  },
  {
   "cell_type": "markdown",
   "metadata": {},
   "source": [
    "to insert:\n",
    "\n",
    "gridsearch results can be analysed this way:\n",
    "results_df = pd.DataFrame.from_dict(gs.cv_results)\n",
    "\n",
    "bsl_options when creating an algorithm, can be sgd or als, if we do that, can define other variables too\n",
    "\n"
   ]
  },
  {
   "cell_type": "code",
   "execution_count": null,
   "metadata": {},
   "outputs": [],
   "source": []
  },
  {
   "cell_type": "code",
   "execution_count": null,
   "metadata": {},
   "outputs": [],
   "source": []
  },
  {
   "cell_type": "markdown",
   "metadata": {},
   "source": [
    "# Examining Data"
   ]
  },
  {
   "cell_type": "code",
   "execution_count": 83,
   "metadata": {},
   "outputs": [],
   "source": [
    "df = pd.read_csv('./data_input/games_31_summary.csv', header = None)"
   ]
  },
  {
   "cell_type": "code",
   "execution_count": 85,
   "metadata": {},
   "outputs": [
    {
     "data": {
      "text/html": [
       "<div>\n",
       "<style scoped>\n",
       "    .dataframe tbody tr th:only-of-type {\n",
       "        vertical-align: middle;\n",
       "    }\n",
       "\n",
       "    .dataframe tbody tr th {\n",
       "        vertical-align: top;\n",
       "    }\n",
       "\n",
       "    .dataframe thead th {\n",
       "        text-align: right;\n",
       "    }\n",
       "</style>\n",
       "<table border=\"1\" class=\"dataframe\">\n",
       "  <thead>\n",
       "    <tr style=\"text-align: right;\">\n",
       "      <th></th>\n",
       "      <th>0</th>\n",
       "      <th>1</th>\n",
       "      <th>2</th>\n",
       "    </tr>\n",
       "  </thead>\n",
       "  <tbody>\n",
       "    <tr>\n",
       "      <td>0</td>\n",
       "      <td>DRCrain</td>\n",
       "      <td>174430</td>\n",
       "      <td>7.0</td>\n",
       "    </tr>\n",
       "    <tr>\n",
       "      <td>1</td>\n",
       "      <td>Huligan1475</td>\n",
       "      <td>174430</td>\n",
       "      <td>7.0</td>\n",
       "    </tr>\n",
       "    <tr>\n",
       "      <td>2</td>\n",
       "      <td>Cama891</td>\n",
       "      <td>174430</td>\n",
       "      <td>9.0</td>\n",
       "    </tr>\n",
       "    <tr>\n",
       "      <td>3</td>\n",
       "      <td>ryosaeba83</td>\n",
       "      <td>174430</td>\n",
       "      <td>9.0</td>\n",
       "    </tr>\n",
       "    <tr>\n",
       "      <td>4</td>\n",
       "      <td>Creation</td>\n",
       "      <td>174430</td>\n",
       "      <td>10.0</td>\n",
       "    </tr>\n",
       "  </tbody>\n",
       "</table>\n",
       "</div>"
      ],
      "text/plain": [
       "             0       1     2\n",
       "0      DRCrain  174430   7.0\n",
       "1  Huligan1475  174430   7.0\n",
       "2      Cama891  174430   9.0\n",
       "3   ryosaeba83  174430   9.0\n",
       "4     Creation  174430  10.0"
      ]
     },
     "execution_count": 85,
     "metadata": {},
     "output_type": "execute_result"
    }
   ],
   "source": [
    "df.head()"
   ]
  },
  {
   "cell_type": "code",
   "execution_count": 87,
   "metadata": {},
   "outputs": [
    {
     "data": {
      "text/plain": [
       "count    866517.000000\n",
       "mean          8.237334\n",
       "std           1.440595\n",
       "min           1.000000\n",
       "25%           7.500000\n",
       "50%           8.300000\n",
       "75%           9.000000\n",
       "max          10.000000\n",
       "Name: 2, dtype: float64"
      ]
     },
     "execution_count": 87,
     "metadata": {},
     "output_type": "execute_result"
    }
   ],
   "source": [
    "df[2].describe()"
   ]
  },
  {
   "cell_type": "code",
   "execution_count": null,
   "metadata": {},
   "outputs": [],
   "source": []
  }
 ],
 "metadata": {
  "kernelspec": {
   "display_name": "Python 3",
   "language": "python",
   "name": "python3"
  },
  "language_info": {
   "codemirror_mode": {
    "name": "ipython",
    "version": 3
   },
   "file_extension": ".py",
   "mimetype": "text/x-python",
   "name": "python",
   "nbconvert_exporter": "python",
   "pygments_lexer": "ipython3",
   "version": "3.7.6"
  },
  "toc": {
   "base_numbering": 1,
   "nav_menu": {},
   "number_sections": true,
   "sideBar": true,
   "skip_h1_title": false,
   "title_cell": "Table of Contents",
   "title_sidebar": "Contents",
   "toc_cell": false,
   "toc_position": {},
   "toc_section_display": true,
   "toc_window_display": false
  },
  "varInspector": {
   "cols": {
    "lenName": 16,
    "lenType": 16,
    "lenVar": 40
   },
   "kernels_config": {
    "python": {
     "delete_cmd_postfix": "",
     "delete_cmd_prefix": "del ",
     "library": "var_list.py",
     "varRefreshCmd": "print(var_dic_list())"
    },
    "r": {
     "delete_cmd_postfix": ") ",
     "delete_cmd_prefix": "rm(",
     "library": "var_list.r",
     "varRefreshCmd": "cat(var_dic_list()) "
    }
   },
   "types_to_exclude": [
    "module",
    "function",
    "builtin_function_or_method",
    "instance",
    "_Feature"
   ],
   "window_display": false
  }
 },
 "nbformat": 4,
 "nbformat_minor": 4
}
