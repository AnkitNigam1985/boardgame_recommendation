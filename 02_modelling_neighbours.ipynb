{
 "cells": [
  {
   "cell_type": "markdown",
   "metadata": {},
   "source": [
    "# Summary"
   ]
  },
  {
   "cell_type": "markdown",
   "metadata": {},
   "source": [
    "In this notebook, we look at neighbor models, using surprise's KNN prediction models. \n",
    "<br>\n",
    "\n",
    "We start by setting up the infrastructure, importing all the user ratings of the top 100 game on boardgamegeek (dy default metric called geekrating), as of March 31, 2020. turning that into trainset\n",
    "<br>\n",
    "\n",
    "then, modelling, KNNs, 4 different kind of model\n",
    "\n",
    "for more info, check out surprise's documentation\n"
   ]
  },
  {
   "cell_type": "markdown",
   "metadata": {},
   "source": [
    "# Infrastructure"
   ]
  },
  {
   "cell_type": "code",
   "execution_count": 2,
   "metadata": {},
   "outputs": [],
   "source": [
    "# surprise library\n",
    "from surprise import Dataset, Reader\n",
    "\n",
    "from surprise.similarities import \\\n",
    "    cosine, msd, pearson, pearson_baseline\n",
    "from surprise.prediction_algorithms.knns import \\\n",
    "    KNNBasic, KNNWithMeans, KNNWithZScore, KNNBaseline\n",
    "from surprise.model_selection import \\\n",
    "    train_test_split, GridSearchCV, cross_validate\n",
    "\n",
    "from surprise import accuracy\n",
    "from surprise.model_selection import KFold\n",
    "\n",
    "\n",
    "import pandas as pd\n",
    "import numpy as np\n",
    "import csv\n",
    "\n",
    "# my functions for this project\n",
    "import bgg_data_func\n",
    "import bgg_model_func\n",
    "from game_name_converter import NameConverter"
   ]
  },
  {
   "cell_type": "code",
   "execution_count": 3,
   "metadata": {},
   "outputs": [],
   "source": [
    "my_seed = 12345\n",
    "np.random.seed(my_seed)"
   ]
  },
  {
   "cell_type": "code",
   "execution_count": 4,
   "metadata": {},
   "outputs": [],
   "source": [
    "file_path = './data_input/games_100_summary.csv'\n",
    "\n",
    "reader = Reader(line_format='user item rating', sep=',', rating_scale = (1,10))\n",
    "\n",
    "data = Dataset.load_from_file(file_path, reader=reader)"
   ]
  },
  {
   "cell_type": "code",
   "execution_count": 5,
   "metadata": {},
   "outputs": [],
   "source": [
    "trainset, testset = train_test_split(data, test_size=0.2)"
   ]
  },
  {
   "cell_type": "code",
   "execution_count": 6,
   "metadata": {},
   "outputs": [
    {
     "name": "stdout",
     "output_type": "stream",
     "text": [
      "Number of users:  225784 \n",
      "\n",
      "Number of items:  100 \n",
      "\n"
     ]
    }
   ],
   "source": [
    "print('Number of users: ', trainset.n_users, '\\n')\n",
    "print('Number of items: ', trainset.n_items, '\\n')"
   ]
  },
  {
   "cell_type": "code",
   "execution_count": 7,
   "metadata": {},
   "outputs": [],
   "source": [
    "trainset_iids = list(trainset.all_items())\n",
    "iid_converter = lambda x: trainset.to_raw_iid(x)\n",
    "trainset_raw_iids = list(map(iid_converter, trainset_iids))"
   ]
  },
  {
   "cell_type": "code",
   "execution_count": 8,
   "metadata": {},
   "outputs": [
    {
     "name": "stdout",
     "output_type": "stream",
     "text": [
      "Number of users:  237253 \n",
      "\n",
      "Number of items:  100 \n",
      "\n"
     ]
    }
   ],
   "source": [
    "trainsetfull = data.build_full_trainset()\n",
    "print('Number of users: ', trainsetfull.n_users, '\\n')\n",
    "print('Number of items: ', trainsetfull.n_items, '\\n')"
   ]
  },
  {
   "cell_type": "code",
   "execution_count": 9,
   "metadata": {},
   "outputs": [],
   "source": [
    "trainsetfull_iids = list(trainsetfull.all_items())\n",
    "iid_converter = lambda x: trainsetfull.to_raw_iid(x)\n",
    "trainsetfull_raw_iids = list(map(iid_converter, trainsetfull_iids))"
   ]
  },
  {
   "cell_type": "code",
   "execution_count": 10,
   "metadata": {},
   "outputs": [],
   "source": [
    "name_converter = NameConverter('games_master_list.csv')"
   ]
  },
  {
   "cell_type": "markdown",
   "metadata": {},
   "source": [
    "# Modelling"
   ]
  },
  {
   "cell_type": "code",
   "execution_count": null,
   "metadata": {},
   "outputs": [],
   "source": [
    "# define similarity options, to be used by different models\n",
    "# four options: cosine, pearson, pearson_baseline, msd"
   ]
  },
  {
   "cell_type": "code",
   "execution_count": 11,
   "metadata": {},
   "outputs": [],
   "source": [
    "sim_msd = {'name':'MSD', 'user_based':False}\n",
    "sim_cos = {'name':'cosine', 'user_based':False}\n",
    "sim_pearson = {'name':'pearson', 'user_based':False}\n",
    "sim_pearson_baseline = {'name': 'pearson_baseline','user_based':False, 'shrinkage': 100}\n",
    "\n",
    "sim_options = [sim_msd, sim_cos, sim_pearson, sim_pearson_baseline]\n",
    "\n",
    "# shrinkage can be tuned, this is baseline\n",
    "# we will not do user based, do to the size \n",
    "# every other parameter is taken into account"
   ]
  },
  {
   "cell_type": "markdown",
   "metadata": {},
   "source": [
    "On to the modelling. \n",
    "KNNBasic, KNNWithMeans, KNNWithZScore can be used with first three sims, to tune: k, number of neighbors, looking at these first. \n",
    "With KNNBaseline, you also mix this with an underlying svd baseline estimation, and the recommended measure is pearson_baseline. "
   ]
  },
  {
   "cell_type": "code",
   "execution_count": 12,
   "metadata": {},
   "outputs": [],
   "source": [
    "list_of_ks = [10,20,40]"
   ]
  },
  {
   "cell_type": "markdown",
   "metadata": {
    "heading_collapsed": true
   },
   "source": [
    "## Similarity Matrices"
   ]
  },
  {
   "cell_type": "markdown",
   "metadata": {
    "hidden": true
   },
   "source": [
    "Going to handle the first 3 in one group. at first, we just run three models to get the similarity matrices, running them on the full trainset"
   ]
  },
  {
   "cell_type": "code",
   "execution_count": null,
   "metadata": {
    "hidden": true
   },
   "outputs": [],
   "source": [
    "# going for the first three models\n",
    "for i in range(0,3):\n",
    "    model = KNNBasic(sim_options = sim_options[i], verbose = False)\n",
    "    model.fit(trainsetfull)\n",
    "    save_similar_games(\n",
    "        model.sim, trainsetfull_raw_iids, 10, \n",
    "        './results/top_10_similar_games_' + sim_options[i]['name'] + '.csv')"
   ]
  },
  {
   "cell_type": "code",
   "execution_count": null,
   "metadata": {
    "hidden": true
   },
   "outputs": [],
   "source": [
    "def save_similar_games(similarity_matrix, raw_iids, top_x, output_file):\n",
    "    df = bgg_model_func.return_top_similar_dataframe(similarity_matrix, raw_iids, top_x)\n",
    "    for column in df.columns:\n",
    "        df[column] = df[column].map(name_converter.get_game_name_from_id)\n",
    "    df.sort_values(['game'], inplace = True, axis = 0)\n",
    "    df.to_csv(output_file, index = False)"
   ]
  },
  {
   "cell_type": "code",
   "execution_count": null,
   "metadata": {
    "hidden": true
   },
   "outputs": [],
   "source": [
    "# we can check the matrices here, if we want to"
   ]
  },
  {
   "cell_type": "code",
   "execution_count": null,
   "metadata": {
    "hidden": true
   },
   "outputs": [],
   "source": [
    "df = pd.read_csv('./results/top_10_similar_games_' + sim_options[2]['name'] + '.csv')\n",
    "df;"
   ]
  },
  {
   "cell_type": "markdown",
   "metadata": {},
   "source": [
    "## kNN Models without Baseline"
   ]
  },
  {
   "cell_type": "markdown",
   "metadata": {
    "heading_collapsed": true
   },
   "source": [
    "### Hyperparameter Tuning"
   ]
  },
  {
   "cell_type": "code",
   "execution_count": null,
   "metadata": {
    "hidden": true
   },
   "outputs": [],
   "source": [
    "# we are using cross-validation as a default, saving everything in a csv called KNN_CV_Scores \n",
    "# structure of csv: modeltype, similarity, k, rmse_test"
   ]
  },
  {
   "cell_type": "code",
   "execution_count": 54,
   "metadata": {
    "hidden": true
   },
   "outputs": [],
   "source": [
    "with open('./results/kNN_scores.csv', 'w') as f:\n",
    "    writer = csv.writer(f)\n",
    "    writer.writerow(['model_type', 'similarity_option', 'k', 'train_rmse', 'test_rmse'])"
   ]
  },
  {
   "cell_type": "code",
   "execution_count": 55,
   "metadata": {
    "hidden": true
   },
   "outputs": [
    {
     "name": "stdout",
     "output_type": "stream",
     "text": [
      "Currently calculating sim_option = MSD and k = 10 ...\n",
      "Computing the msd similarity matrix...\n",
      "Done computing similarity matrix.\n",
      "Computing the msd similarity matrix...\n",
      "Done computing similarity matrix.\n",
      "Computing the msd similarity matrix...\n",
      "Done computing similarity matrix.\n",
      "Currently calculating sim_option = MSD and k = 20 ...\n",
      "Computing the msd similarity matrix...\n",
      "Done computing similarity matrix.\n",
      "Computing the msd similarity matrix...\n",
      "Done computing similarity matrix.\n",
      "Computing the msd similarity matrix...\n",
      "Done computing similarity matrix.\n",
      "Currently calculating sim_option = MSD and k = 40 ...\n",
      "Computing the msd similarity matrix...\n",
      "Done computing similarity matrix.\n",
      "Computing the msd similarity matrix...\n",
      "Done computing similarity matrix.\n",
      "Computing the msd similarity matrix...\n",
      "Done computing similarity matrix.\n",
      "Currently calculating sim_option = cosine and k = 10 ...\n",
      "Computing the cosine similarity matrix...\n",
      "Done computing similarity matrix.\n",
      "Computing the cosine similarity matrix...\n",
      "Done computing similarity matrix.\n",
      "Computing the cosine similarity matrix...\n",
      "Done computing similarity matrix.\n",
      "Currently calculating sim_option = cosine and k = 20 ...\n",
      "Computing the cosine similarity matrix...\n",
      "Done computing similarity matrix.\n",
      "Computing the cosine similarity matrix...\n",
      "Done computing similarity matrix.\n",
      "Computing the cosine similarity matrix...\n",
      "Done computing similarity matrix.\n",
      "Currently calculating sim_option = cosine and k = 40 ...\n",
      "Computing the cosine similarity matrix...\n",
      "Done computing similarity matrix.\n",
      "Computing the cosine similarity matrix...\n",
      "Done computing similarity matrix.\n",
      "Computing the cosine similarity matrix...\n",
      "Done computing similarity matrix.\n",
      "Currently calculating sim_option = pearson and k = 10 ...\n",
      "Computing the pearson similarity matrix...\n",
      "Done computing similarity matrix.\n",
      "Computing the pearson similarity matrix...\n",
      "Done computing similarity matrix.\n",
      "Computing the pearson similarity matrix...\n",
      "Done computing similarity matrix.\n",
      "Currently calculating sim_option = pearson and k = 20 ...\n",
      "Computing the pearson similarity matrix...\n",
      "Done computing similarity matrix.\n",
      "Computing the pearson similarity matrix...\n",
      "Done computing similarity matrix.\n",
      "Computing the pearson similarity matrix...\n",
      "Done computing similarity matrix.\n",
      "Currently calculating sim_option = pearson and k = 40 ...\n",
      "Computing the pearson similarity matrix...\n",
      "Done computing similarity matrix.\n",
      "Computing the pearson similarity matrix...\n",
      "Done computing similarity matrix.\n",
      "Computing the pearson similarity matrix...\n",
      "Done computing similarity matrix.\n"
     ]
    }
   ],
   "source": [
    "# KNNBasic\n",
    "for curr_sim_option in sim_options[0:3]:\n",
    "\n",
    "    for curr_k in list_of_ks:\n",
    "        \n",
    "        print(\n",
    "            'Currently calculating sim_option = ' + str(curr_sim_option['name']) + \\\n",
    "            ' and k = ' + str(curr_k) + ' ...' )        \n",
    "        algo = KNNBasic(k = curr_k, sim_options = curr_sim_option)\n",
    "        results = cross_validate(algo, data, measures=['RMSE'], cv=3, return_train_measures=True);\n",
    "        \n",
    "        with open('./results/kNN_scores.csv', 'a') as f:\n",
    "            writer = csv.writer(f)\n",
    "            writer.writerow(\n",
    "                ['KNNBasic', curr_sim_option['name'], str(curr_k), \n",
    "                 str(np.mean(results['train_rmse'])), str(np.mean(results['test_rmse']))])"
   ]
  },
  {
   "cell_type": "code",
   "execution_count": 56,
   "metadata": {
    "hidden": true
   },
   "outputs": [
    {
     "name": "stdout",
     "output_type": "stream",
     "text": [
      "Currently calculating sim_option = MSD and k = 10 ...\n",
      "Computing the msd similarity matrix...\n",
      "Done computing similarity matrix.\n",
      "Computing the msd similarity matrix...\n",
      "Done computing similarity matrix.\n",
      "Computing the msd similarity matrix...\n",
      "Done computing similarity matrix.\n",
      "Currently calculating sim_option = MSD and k = 20 ...\n",
      "Computing the msd similarity matrix...\n",
      "Done computing similarity matrix.\n",
      "Computing the msd similarity matrix...\n",
      "Done computing similarity matrix.\n",
      "Computing the msd similarity matrix...\n",
      "Done computing similarity matrix.\n",
      "Currently calculating sim_option = MSD and k = 40 ...\n",
      "Computing the msd similarity matrix...\n",
      "Done computing similarity matrix.\n",
      "Computing the msd similarity matrix...\n",
      "Done computing similarity matrix.\n",
      "Computing the msd similarity matrix...\n",
      "Done computing similarity matrix.\n",
      "Currently calculating sim_option = cosine and k = 10 ...\n",
      "Computing the cosine similarity matrix...\n",
      "Done computing similarity matrix.\n",
      "Computing the cosine similarity matrix...\n",
      "Done computing similarity matrix.\n",
      "Computing the cosine similarity matrix...\n",
      "Done computing similarity matrix.\n",
      "Currently calculating sim_option = cosine and k = 20 ...\n",
      "Computing the cosine similarity matrix...\n",
      "Done computing similarity matrix.\n",
      "Computing the cosine similarity matrix...\n",
      "Done computing similarity matrix.\n",
      "Computing the cosine similarity matrix...\n",
      "Done computing similarity matrix.\n",
      "Currently calculating sim_option = cosine and k = 40 ...\n",
      "Computing the cosine similarity matrix...\n",
      "Done computing similarity matrix.\n",
      "Computing the cosine similarity matrix...\n",
      "Done computing similarity matrix.\n",
      "Computing the cosine similarity matrix...\n",
      "Done computing similarity matrix.\n",
      "Currently calculating sim_option = pearson and k = 10 ...\n",
      "Computing the pearson similarity matrix...\n",
      "Done computing similarity matrix.\n",
      "Computing the pearson similarity matrix...\n",
      "Done computing similarity matrix.\n",
      "Computing the pearson similarity matrix...\n",
      "Done computing similarity matrix.\n",
      "Currently calculating sim_option = pearson and k = 20 ...\n",
      "Computing the pearson similarity matrix...\n",
      "Done computing similarity matrix.\n",
      "Computing the pearson similarity matrix...\n",
      "Done computing similarity matrix.\n",
      "Computing the pearson similarity matrix...\n",
      "Done computing similarity matrix.\n",
      "Currently calculating sim_option = pearson and k = 40 ...\n",
      "Computing the pearson similarity matrix...\n",
      "Done computing similarity matrix.\n",
      "Computing the pearson similarity matrix...\n",
      "Done computing similarity matrix.\n",
      "Computing the pearson similarity matrix...\n",
      "Done computing similarity matrix.\n"
     ]
    }
   ],
   "source": [
    "# KNNWithMeans\n",
    "for curr_sim_option in sim_options[0:3]:\n",
    "\n",
    "    for curr_k in list_of_ks:\n",
    "        \n",
    "        print(\n",
    "            'Currently calculating sim_option = ' + str(curr_sim_option['name']) + \\\n",
    "            ' and k = ' + str(curr_k) + ' ...' )\n",
    "        algo = KNNWithMeans(k = curr_k, sim_options = curr_sim_option)\n",
    "        results = cross_validate(algo, data, measures=['RMSE'], cv=3, return_train_measures=True);\n",
    "        \n",
    "        with open('./results/kNN_scores.csv', 'a') as f:\n",
    "            writer = csv.writer(f)\n",
    "            writer.writerow(\n",
    "                ['KNNWithMeans', curr_sim_option['name'], str(curr_k), \n",
    "                 str(np.mean(results['train_rmse'])), str(np.mean(results['test_rmse']))])"
   ]
  },
  {
   "cell_type": "code",
   "execution_count": 57,
   "metadata": {
    "hidden": true
   },
   "outputs": [
    {
     "name": "stdout",
     "output_type": "stream",
     "text": [
      "Currently calculating sim_option = MSD and k = 10 ...\n",
      "Computing the msd similarity matrix...\n",
      "Done computing similarity matrix.\n",
      "Computing the msd similarity matrix...\n",
      "Done computing similarity matrix.\n",
      "Computing the msd similarity matrix...\n",
      "Done computing similarity matrix.\n",
      "Currently calculating sim_option = MSD and k = 20 ...\n",
      "Computing the msd similarity matrix...\n",
      "Done computing similarity matrix.\n",
      "Computing the msd similarity matrix...\n",
      "Done computing similarity matrix.\n",
      "Computing the msd similarity matrix...\n",
      "Done computing similarity matrix.\n",
      "Currently calculating sim_option = MSD and k = 40 ...\n",
      "Computing the msd similarity matrix...\n",
      "Done computing similarity matrix.\n",
      "Computing the msd similarity matrix...\n",
      "Done computing similarity matrix.\n",
      "Computing the msd similarity matrix...\n",
      "Done computing similarity matrix.\n",
      "Currently calculating sim_option = cosine and k = 10 ...\n",
      "Computing the cosine similarity matrix...\n",
      "Done computing similarity matrix.\n",
      "Computing the cosine similarity matrix...\n",
      "Done computing similarity matrix.\n",
      "Computing the cosine similarity matrix...\n",
      "Done computing similarity matrix.\n",
      "Currently calculating sim_option = cosine and k = 20 ...\n",
      "Computing the cosine similarity matrix...\n",
      "Done computing similarity matrix.\n",
      "Computing the cosine similarity matrix...\n",
      "Done computing similarity matrix.\n",
      "Computing the cosine similarity matrix...\n",
      "Done computing similarity matrix.\n",
      "Currently calculating sim_option = cosine and k = 40 ...\n",
      "Computing the cosine similarity matrix...\n",
      "Done computing similarity matrix.\n",
      "Computing the cosine similarity matrix...\n",
      "Done computing similarity matrix.\n",
      "Computing the cosine similarity matrix...\n",
      "Done computing similarity matrix.\n",
      "Currently calculating sim_option = pearson and k = 10 ...\n",
      "Computing the pearson similarity matrix...\n",
      "Done computing similarity matrix.\n",
      "Computing the pearson similarity matrix...\n",
      "Done computing similarity matrix.\n",
      "Computing the pearson similarity matrix...\n",
      "Done computing similarity matrix.\n",
      "Currently calculating sim_option = pearson and k = 20 ...\n",
      "Computing the pearson similarity matrix...\n",
      "Done computing similarity matrix.\n",
      "Computing the pearson similarity matrix...\n",
      "Done computing similarity matrix.\n",
      "Computing the pearson similarity matrix...\n",
      "Done computing similarity matrix.\n",
      "Currently calculating sim_option = pearson and k = 40 ...\n",
      "Computing the pearson similarity matrix...\n",
      "Done computing similarity matrix.\n",
      "Computing the pearson similarity matrix...\n",
      "Done computing similarity matrix.\n",
      "Computing the pearson similarity matrix...\n",
      "Done computing similarity matrix.\n"
     ]
    }
   ],
   "source": [
    "# KNNWithZScore\n",
    "for curr_sim_option in sim_options[0:3]:\n",
    "\n",
    "    for curr_k in list_of_ks:\n",
    "        \n",
    "        print(\n",
    "            'Currently calculating sim_option = ' + str(curr_sim_option['name']) + \\\n",
    "            ' and k = ' + str(curr_k) + ' ...' )\n",
    "        algo = KNNWithZScore(k = curr_k, sim_options = curr_sim_option)\n",
    "        results = cross_validate(algo, data, measures=['RMSE'], cv=3, return_train_measures=True);\n",
    "        \n",
    "        with open('./results/kNN_scores.csv', 'a') as f:\n",
    "            writer = csv.writer(f)\n",
    "            writer.writerow(\n",
    "                ['KNNWithZScore', curr_sim_option['name'], str(curr_k), \n",
    "                 str(np.mean(results['train_rmse'])), str(np.mean(results['test_rmse']))])"
   ]
  },
  {
   "cell_type": "code",
   "execution_count": 36,
   "metadata": {
    "hidden": true
   },
   "outputs": [],
   "source": [
    "# can analyse with pandas now"
   ]
  },
  {
   "cell_type": "code",
   "execution_count": 58,
   "metadata": {
    "hidden": true
   },
   "outputs": [
    {
     "data": {
      "text/html": [
       "<div>\n",
       "<style scoped>\n",
       "    .dataframe tbody tr th:only-of-type {\n",
       "        vertical-align: middle;\n",
       "    }\n",
       "\n",
       "    .dataframe tbody tr th {\n",
       "        vertical-align: top;\n",
       "    }\n",
       "\n",
       "    .dataframe thead th {\n",
       "        text-align: right;\n",
       "    }\n",
       "</style>\n",
       "<table border=\"1\" class=\"dataframe\">\n",
       "  <thead>\n",
       "    <tr style=\"text-align: right;\">\n",
       "      <th></th>\n",
       "      <th>model_type</th>\n",
       "      <th>similarity_option</th>\n",
       "      <th>k</th>\n",
       "      <th>train_rmse</th>\n",
       "      <th>test_rmse</th>\n",
       "    </tr>\n",
       "  </thead>\n",
       "  <tbody>\n",
       "    <tr>\n",
       "      <td>15</td>\n",
       "      <td>KNNWithMeans</td>\n",
       "      <td>pearson</td>\n",
       "      <td>10</td>\n",
       "      <td>0.802911</td>\n",
       "      <td>1.268071</td>\n",
       "    </tr>\n",
       "    <tr>\n",
       "      <td>24</td>\n",
       "      <td>KNNWithZScore</td>\n",
       "      <td>pearson</td>\n",
       "      <td>10</td>\n",
       "      <td>0.803766</td>\n",
       "      <td>1.268229</td>\n",
       "    </tr>\n",
       "    <tr>\n",
       "      <td>25</td>\n",
       "      <td>KNNWithZScore</td>\n",
       "      <td>pearson</td>\n",
       "      <td>20</td>\n",
       "      <td>0.876658</td>\n",
       "      <td>1.270155</td>\n",
       "    </tr>\n",
       "    <tr>\n",
       "      <td>16</td>\n",
       "      <td>KNNWithMeans</td>\n",
       "      <td>pearson</td>\n",
       "      <td>20</td>\n",
       "      <td>0.875939</td>\n",
       "      <td>1.270204</td>\n",
       "    </tr>\n",
       "    <tr>\n",
       "      <td>26</td>\n",
       "      <td>KNNWithZScore</td>\n",
       "      <td>pearson</td>\n",
       "      <td>40</td>\n",
       "      <td>0.903048</td>\n",
       "      <td>1.274972</td>\n",
       "    </tr>\n",
       "    <tr>\n",
       "      <td>17</td>\n",
       "      <td>KNNWithMeans</td>\n",
       "      <td>pearson</td>\n",
       "      <td>40</td>\n",
       "      <td>0.902398</td>\n",
       "      <td>1.275318</td>\n",
       "    </tr>\n",
       "    <tr>\n",
       "      <td>10</td>\n",
       "      <td>KNNWithMeans</td>\n",
       "      <td>MSD</td>\n",
       "      <td>20</td>\n",
       "      <td>0.875226</td>\n",
       "      <td>1.278689</td>\n",
       "    </tr>\n",
       "    <tr>\n",
       "      <td>9</td>\n",
       "      <td>KNNWithMeans</td>\n",
       "      <td>MSD</td>\n",
       "      <td>10</td>\n",
       "      <td>0.789032</td>\n",
       "      <td>1.278780</td>\n",
       "    </tr>\n",
       "    <tr>\n",
       "      <td>19</td>\n",
       "      <td>KNNWithZScore</td>\n",
       "      <td>MSD</td>\n",
       "      <td>20</td>\n",
       "      <td>0.877514</td>\n",
       "      <td>1.281942</td>\n",
       "    </tr>\n",
       "    <tr>\n",
       "      <td>11</td>\n",
       "      <td>KNNWithMeans</td>\n",
       "      <td>MSD</td>\n",
       "      <td>40</td>\n",
       "      <td>0.904816</td>\n",
       "      <td>1.282700</td>\n",
       "    </tr>\n",
       "    <tr>\n",
       "      <td>12</td>\n",
       "      <td>KNNWithMeans</td>\n",
       "      <td>cosine</td>\n",
       "      <td>10</td>\n",
       "      <td>1.065292</td>\n",
       "      <td>1.282705</td>\n",
       "    </tr>\n",
       "    <tr>\n",
       "      <td>20</td>\n",
       "      <td>KNNWithZScore</td>\n",
       "      <td>MSD</td>\n",
       "      <td>40</td>\n",
       "      <td>0.905984</td>\n",
       "      <td>1.284449</td>\n",
       "    </tr>\n",
       "    <tr>\n",
       "      <td>13</td>\n",
       "      <td>KNNWithMeans</td>\n",
       "      <td>cosine</td>\n",
       "      <td>20</td>\n",
       "      <td>1.103034</td>\n",
       "      <td>1.284759</td>\n",
       "    </tr>\n",
       "    <tr>\n",
       "      <td>18</td>\n",
       "      <td>KNNWithZScore</td>\n",
       "      <td>MSD</td>\n",
       "      <td>10</td>\n",
       "      <td>0.793889</td>\n",
       "      <td>1.285155</td>\n",
       "    </tr>\n",
       "    <tr>\n",
       "      <td>22</td>\n",
       "      <td>KNNWithZScore</td>\n",
       "      <td>cosine</td>\n",
       "      <td>20</td>\n",
       "      <td>1.105098</td>\n",
       "      <td>1.286139</td>\n",
       "    </tr>\n",
       "    <tr>\n",
       "      <td>21</td>\n",
       "      <td>KNNWithZScore</td>\n",
       "      <td>cosine</td>\n",
       "      <td>10</td>\n",
       "      <td>1.070749</td>\n",
       "      <td>1.287117</td>\n",
       "    </tr>\n",
       "    <tr>\n",
       "      <td>14</td>\n",
       "      <td>KNNWithMeans</td>\n",
       "      <td>cosine</td>\n",
       "      <td>40</td>\n",
       "      <td>1.118475</td>\n",
       "      <td>1.290292</td>\n",
       "    </tr>\n",
       "    <tr>\n",
       "      <td>23</td>\n",
       "      <td>KNNWithZScore</td>\n",
       "      <td>cosine</td>\n",
       "      <td>40</td>\n",
       "      <td>1.119002</td>\n",
       "      <td>1.290930</td>\n",
       "    </tr>\n",
       "    <tr>\n",
       "      <td>6</td>\n",
       "      <td>KNNBasic</td>\n",
       "      <td>pearson</td>\n",
       "      <td>10</td>\n",
       "      <td>0.819101</td>\n",
       "      <td>1.293991</td>\n",
       "    </tr>\n",
       "    <tr>\n",
       "      <td>7</td>\n",
       "      <td>KNNBasic</td>\n",
       "      <td>pearson</td>\n",
       "      <td>20</td>\n",
       "      <td>0.894808</td>\n",
       "      <td>1.298322</td>\n",
       "    </tr>\n",
       "    <tr>\n",
       "      <td>0</td>\n",
       "      <td>KNNBasic</td>\n",
       "      <td>MSD</td>\n",
       "      <td>10</td>\n",
       "      <td>0.801325</td>\n",
       "      <td>1.302078</td>\n",
       "    </tr>\n",
       "    <tr>\n",
       "      <td>8</td>\n",
       "      <td>KNNBasic</td>\n",
       "      <td>pearson</td>\n",
       "      <td>40</td>\n",
       "      <td>0.922619</td>\n",
       "      <td>1.305020</td>\n",
       "    </tr>\n",
       "    <tr>\n",
       "      <td>1</td>\n",
       "      <td>KNNBasic</td>\n",
       "      <td>MSD</td>\n",
       "      <td>20</td>\n",
       "      <td>0.892190</td>\n",
       "      <td>1.307704</td>\n",
       "    </tr>\n",
       "    <tr>\n",
       "      <td>3</td>\n",
       "      <td>KNNBasic</td>\n",
       "      <td>cosine</td>\n",
       "      <td>10</td>\n",
       "      <td>1.090510</td>\n",
       "      <td>1.312877</td>\n",
       "    </tr>\n",
       "    <tr>\n",
       "      <td>2</td>\n",
       "      <td>KNNBasic</td>\n",
       "      <td>MSD</td>\n",
       "      <td>40</td>\n",
       "      <td>0.924511</td>\n",
       "      <td>1.313479</td>\n",
       "    </tr>\n",
       "    <tr>\n",
       "      <td>4</td>\n",
       "      <td>KNNBasic</td>\n",
       "      <td>cosine</td>\n",
       "      <td>20</td>\n",
       "      <td>1.130974</td>\n",
       "      <td>1.316924</td>\n",
       "    </tr>\n",
       "    <tr>\n",
       "      <td>5</td>\n",
       "      <td>KNNBasic</td>\n",
       "      <td>cosine</td>\n",
       "      <td>40</td>\n",
       "      <td>1.147118</td>\n",
       "      <td>1.324198</td>\n",
       "    </tr>\n",
       "  </tbody>\n",
       "</table>\n",
       "</div>"
      ],
      "text/plain": [
       "       model_type similarity_option   k  train_rmse  test_rmse\n",
       "15   KNNWithMeans           pearson  10    0.802911   1.268071\n",
       "24  KNNWithZScore           pearson  10    0.803766   1.268229\n",
       "25  KNNWithZScore           pearson  20    0.876658   1.270155\n",
       "16   KNNWithMeans           pearson  20    0.875939   1.270204\n",
       "26  KNNWithZScore           pearson  40    0.903048   1.274972\n",
       "17   KNNWithMeans           pearson  40    0.902398   1.275318\n",
       "10   KNNWithMeans               MSD  20    0.875226   1.278689\n",
       "9    KNNWithMeans               MSD  10    0.789032   1.278780\n",
       "19  KNNWithZScore               MSD  20    0.877514   1.281942\n",
       "11   KNNWithMeans               MSD  40    0.904816   1.282700\n",
       "12   KNNWithMeans            cosine  10    1.065292   1.282705\n",
       "20  KNNWithZScore               MSD  40    0.905984   1.284449\n",
       "13   KNNWithMeans            cosine  20    1.103034   1.284759\n",
       "18  KNNWithZScore               MSD  10    0.793889   1.285155\n",
       "22  KNNWithZScore            cosine  20    1.105098   1.286139\n",
       "21  KNNWithZScore            cosine  10    1.070749   1.287117\n",
       "14   KNNWithMeans            cosine  40    1.118475   1.290292\n",
       "23  KNNWithZScore            cosine  40    1.119002   1.290930\n",
       "6        KNNBasic           pearson  10    0.819101   1.293991\n",
       "7        KNNBasic           pearson  20    0.894808   1.298322\n",
       "0        KNNBasic               MSD  10    0.801325   1.302078\n",
       "8        KNNBasic           pearson  40    0.922619   1.305020\n",
       "1        KNNBasic               MSD  20    0.892190   1.307704\n",
       "3        KNNBasic            cosine  10    1.090510   1.312877\n",
       "2        KNNBasic               MSD  40    0.924511   1.313479\n",
       "4        KNNBasic            cosine  20    1.130974   1.316924\n",
       "5        KNNBasic            cosine  40    1.147118   1.324198"
      ]
     },
     "execution_count": 58,
     "metadata": {},
     "output_type": "execute_result"
    }
   ],
   "source": [
    "df = pd.read_csv('./results/kNN_scores.csv')\n",
    "df.sort_values(by = 'test_rmse', inplace = True)\n",
    "df"
   ]
  },
  {
   "cell_type": "markdown",
   "metadata": {
    "hidden": true
   },
   "source": [
    "best model seems to be this: KNNWithMeans, pearson, 10\n",
    "<br>\n",
    "\n",
    "other notes: pearson seems to be a good similarity option, Means / ZScore are very similar, and KNNBasic is a bad model"
   ]
  },
  {
   "cell_type": "markdown",
   "metadata": {
    "heading_collapsed": true
   },
   "source": [
    "### Chosen Model Fitting"
   ]
  },
  {
   "cell_type": "code",
   "execution_count": 15,
   "metadata": {
    "hidden": true
   },
   "outputs": [],
   "source": [
    "chosen_k = 10\n",
    "chosen_sim_option = sim_pearson"
   ]
  },
  {
   "cell_type": "code",
   "execution_count": 16,
   "metadata": {
    "hidden": true
   },
   "outputs": [
    {
     "name": "stdout",
     "output_type": "stream",
     "text": [
      "Computing the pearson similarity matrix...\n",
      "Done computing similarity matrix.\n",
      "RMSE: 1.2530\n"
     ]
    },
    {
     "data": {
      "text/plain": [
       "1.2529763600132695"
      ]
     },
     "execution_count": 16,
     "metadata": {},
     "output_type": "execute_result"
    }
   ],
   "source": [
    "chosen_knn = KNNWithMeans(k = chosen_k, sim_options = chosen_sim_option)\n",
    "chosen_knn.fit(trainset)\n",
    "predictions = chosen_knn.test(testset)\n",
    "accuracy.rmse(predictions)"
   ]
  },
  {
   "cell_type": "markdown",
   "metadata": {},
   "source": [
    "## kNN with Baseline"
   ]
  },
  {
   "cell_type": "markdown",
   "metadata": {},
   "source": [
    "### Hyperparameter Tuning - SGD"
   ]
  },
  {
   "cell_type": "markdown",
   "metadata": {},
   "source": [
    "with sgd, three things to tune: reg, learning_rate, with als, there are two different regs"
   ]
  },
  {
   "cell_type": "code",
   "execution_count": 18,
   "metadata": {},
   "outputs": [
    {
     "name": "stdout",
     "output_type": "stream",
     "text": [
      "Estimating biases using sgd...\n",
      "Computing the pearson_baseline similarity matrix...\n",
      "Done computing similarity matrix.\n",
      "RMSE: 1.2525\n"
     ]
    },
    {
     "data": {
      "text/plain": [
       "1.2524560273013874"
      ]
     },
     "execution_count": 18,
     "metadata": {},
     "output_type": "execute_result"
    }
   ],
   "source": [
    "algo = KNNBaseline(\n",
    "    k = 10, sim_options = sim_pearson_baseline, \n",
    "    bsl_options = {'method': 'sgd','learning_rate': .00005,}\n",
    "            )\n",
    "algo.fit(trainset)\n",
    "predictions = algo.test(testset)\n",
    "accuracy.rmse(predictions)"
   ]
  },
  {
   "cell_type": "code",
   "execution_count": 21,
   "metadata": {},
   "outputs": [
    {
     "name": "stdout",
     "output_type": "stream",
     "text": [
      "Estimating biases using sgd...\n",
      "Computing the pearson_baseline similarity matrix...\n",
      "Done computing similarity matrix.\n",
      "RMSE: 1.2549\n"
     ]
    },
    {
     "data": {
      "text/plain": [
       "1.254947354928457"
      ]
     },
     "execution_count": 21,
     "metadata": {},
     "output_type": "execute_result"
    }
   ],
   "source": [
    "algo = KNNBaseline(\n",
    "    k = 20, sim_options = sim_pearson_baseline, \n",
    "    bsl_options = {'method': 'sgd','learning_rate': .00005,}\n",
    "            )\n",
    "algo.fit(trainset)\n",
    "predictions = algo.test(testset)\n",
    "accuracy.rmse(predictions)"
   ]
  },
  {
   "cell_type": "code",
   "execution_count": 19,
   "metadata": {},
   "outputs": [
    {
     "name": "stdout",
     "output_type": "stream",
     "text": [
      "Estimating biases using sgd...\n",
      "Computing the pearson_baseline similarity matrix...\n",
      "Done computing similarity matrix.\n",
      "RMSE: 1.2596\n"
     ]
    },
    {
     "data": {
      "text/plain": [
       "1.2596134464301816"
      ]
     },
     "execution_count": 19,
     "metadata": {},
     "output_type": "execute_result"
    }
   ],
   "source": [
    "algo = KNNBaseline(\n",
    "    k = 10, sim_options = sim_pearson_baseline, \n",
    "    bsl_options = {'method': 'sgd','reg': 0.7, 'learning_rate': 0.006}\n",
    "            )\n",
    "algo.fit(trainset)\n",
    "predictions = algo.test(testset)\n",
    "accuracy.rmse(predictions)"
   ]
  },
  {
   "cell_type": "code",
   "execution_count": 20,
   "metadata": {},
   "outputs": [
    {
     "name": "stdout",
     "output_type": "stream",
     "text": [
      "Estimating biases using sgd...\n",
      "Computing the pearson_baseline similarity matrix...\n",
      "Done computing similarity matrix.\n",
      "RMSE: 1.2576\n"
     ]
    },
    {
     "data": {
      "text/plain": [
       "1.2576253376221016"
      ]
     },
     "execution_count": 20,
     "metadata": {},
     "output_type": "execute_result"
    }
   ],
   "source": [
    "algo = KNNBaseline(\n",
    "    k = 20, sim_options = sim_pearson_baseline, \n",
    "    bsl_options = {'method': 'sgd','reg': 0.7, 'learning_rate': 0.006}\n",
    "            )\n",
    "algo.fit(trainset)\n",
    "predictions = algo.test(testset)\n",
    "accuracy.rmse(predictions)"
   ]
  },
  {
   "cell_type": "code",
   "execution_count": 22,
   "metadata": {},
   "outputs": [
    {
     "name": "stdout",
     "output_type": "stream",
     "text": [
      "Estimating biases using sgd...\n",
      "Computing the pearson_baseline similarity matrix...\n",
      "Done computing similarity matrix.\n",
      "RMSE: 1.2594\n"
     ]
    },
    {
     "data": {
      "text/plain": [
       "1.2594038932095013"
      ]
     },
     "execution_count": 22,
     "metadata": {},
     "output_type": "execute_result"
    }
   ],
   "source": [
    "algo = KNNBaseline(\n",
    "    k = 20, sim_options = sim_pearson_baseline, \n",
    "    bsl_options = {'method': 'sgd','reg': 1, 'learning_rate': 0.01}\n",
    "            )\n",
    "algo.fit(trainset)\n",
    "predictions = algo.test(testset)\n",
    "accuracy.rmse(predictions)"
   ]
  },
  {
   "cell_type": "markdown",
   "metadata": {},
   "source": [
    "Choosing with cross validation. "
   ]
  },
  {
   "cell_type": "code",
   "execution_count": 13,
   "metadata": {},
   "outputs": [],
   "source": [
    "sgd_bsl_options = [\n",
    "    {'method':'sgd', 'reg': 0.02, 'learning_rate': 0.005},\n",
    "    {'method':'sgd', 'reg': 0.05, 'learning_rate': 0.005},\n",
    "    {'method':'sgd', 'reg': 0.1, 'learning_rate': 0.005},\n",
    "    {'method':'sgd', 'reg': 0.02, 'learning_rate': 0.01},\n",
    "    {'method':'sgd', 'reg': 0.05, 'learning_rate': 0.01},\n",
    "    {'method':'sgd', 'reg': 0.1, 'learning_rate': 0.01}\n",
    "]"
   ]
  },
  {
   "cell_type": "code",
   "execution_count": 14,
   "metadata": {},
   "outputs": [],
   "source": [
    "with open('./results/kNN_baseline_sgd_scores.csv', 'w') as f:\n",
    "    writer = csv.writer(f)\n",
    "    writer.writerow(['reg', 'learning_rate', 'k', 'train_rmse', 'test_rmse'])"
   ]
  },
  {
   "cell_type": "code",
   "execution_count": null,
   "metadata": {},
   "outputs": [
    {
     "name": "stdout",
     "output_type": "stream",
     "text": [
      "Currently calculating k = 10 ...\n",
      "Estimating biases using sgd...\n"
     ]
    }
   ],
   "source": [
    "for curr_bsl_option in sgd_bsl_options:\n",
    "\n",
    "    for curr_k in list_of_ks:\n",
    "        \n",
    "        print(\n",
    "            'Currently calculating k = ' + str(curr_k) + ' ...'\n",
    "        )        \n",
    "        algo = KNNBaseline(k = curr_k, bsl_options = curr_bsl_option)\n",
    "        results = cross_validate(algo, data, measures=['RMSE'], cv=3, return_train_measures=True);\n",
    "        \n",
    "        with open('./results/kNN_baseline_sgd_scores.csv', 'a') as f:\n",
    "            writer = csv.writer(f)\n",
    "            writer.writerow(\n",
    "                [curr_bsl_option['reg'], curr_bsl_option['learning_rate'],str(curr_k), \n",
    "                 str(np.mean(results['train_rmse'])), str(np.mean(results['test_rmse']))])"
   ]
  },
  {
   "cell_type": "code",
   "execution_count": null,
   "metadata": {},
   "outputs": [],
   "source": []
  },
  {
   "cell_type": "code",
   "execution_count": null,
   "metadata": {},
   "outputs": [],
   "source": []
  },
  {
   "cell_type": "markdown",
   "metadata": {},
   "source": [
    "### Hyperparameter Tuning - ALS"
   ]
  },
  {
   "cell_type": "code",
   "execution_count": 23,
   "metadata": {},
   "outputs": [
    {
     "name": "stdout",
     "output_type": "stream",
     "text": [
      "Estimating biases using als...\n",
      "Computing the pearson_baseline similarity matrix...\n",
      "Done computing similarity matrix.\n",
      "RMSE: 1.2615\n"
     ]
    },
    {
     "data": {
      "text/plain": [
       "1.2615304328151062"
      ]
     },
     "execution_count": 23,
     "metadata": {},
     "output_type": "execute_result"
    }
   ],
   "source": [
    "algo = KNNBaseline(\n",
    "    k = 20, sim_options = sim_pearson_baseline, \n",
    "    bsl_options = {'method': 'als','reg_i': 10, 'reg_u': 15}\n",
    "            )\n",
    "algo.fit(trainset)\n",
    "predictions = algo.test(testset)\n",
    "accuracy.rmse(predictions)"
   ]
  },
  {
   "cell_type": "code",
   "execution_count": 24,
   "metadata": {},
   "outputs": [
    {
     "name": "stdout",
     "output_type": "stream",
     "text": [
      "Estimating biases using als...\n",
      "Computing the pearson_baseline similarity matrix...\n",
      "Done computing similarity matrix.\n",
      "RMSE: 1.2456\n"
     ]
    },
    {
     "data": {
      "text/plain": [
       "1.2455804940611168"
      ]
     },
     "execution_count": 24,
     "metadata": {},
     "output_type": "execute_result"
    }
   ],
   "source": [
    "algo = KNNBaseline(\n",
    "    k = 20, sim_options = sim_pearson_baseline, \n",
    "    bsl_options = {'method': 'als','reg_i': 20, 'reg_u': 30}\n",
    "            )\n",
    "algo.fit(trainset)\n",
    "predictions = algo.test(testset)\n",
    "accuracy.rmse(predictions)"
   ]
  },
  {
   "cell_type": "code",
   "execution_count": 25,
   "metadata": {},
   "outputs": [
    {
     "name": "stdout",
     "output_type": "stream",
     "text": [
      "Estimating biases using als...\n",
      "Computing the pearson_baseline similarity matrix...\n",
      "Done computing similarity matrix.\n",
      "RMSE: 1.2443\n"
     ]
    },
    {
     "data": {
      "text/plain": [
       "1.2443345584252317"
      ]
     },
     "execution_count": 25,
     "metadata": {},
     "output_type": "execute_result"
    }
   ],
   "source": [
    "algo = KNNBaseline(\n",
    "    k = 20, sim_options = sim_pearson_baseline, \n",
    "    bsl_options = {'method': 'als','reg_i': 40, 'reg_u': 60}\n",
    "            )\n",
    "algo.fit(trainset)\n",
    "predictions = algo.test(testset)\n",
    "accuracy.rmse(predictions)"
   ]
  },
  {
   "cell_type": "code",
   "execution_count": 26,
   "metadata": {},
   "outputs": [
    {
     "name": "stdout",
     "output_type": "stream",
     "text": [
      "Estimating biases using als...\n",
      "Computing the pearson_baseline similarity matrix...\n",
      "Done computing similarity matrix.\n",
      "RMSE: 1.2476\n"
     ]
    },
    {
     "data": {
      "text/plain": [
       "1.2476387661036483"
      ]
     },
     "execution_count": 26,
     "metadata": {},
     "output_type": "execute_result"
    }
   ],
   "source": [
    "algo = KNNBaseline(\n",
    "    k = 20, sim_options = sim_pearson_baseline, \n",
    "    bsl_options = {'method': 'als','reg_i': 80, 'reg_u': 120}\n",
    "            )\n",
    "algo.fit(trainset)\n",
    "predictions = algo.test(testset)\n",
    "accuracy.rmse(predictions)"
   ]
  },
  {
   "cell_type": "code",
   "execution_count": 27,
   "metadata": {},
   "outputs": [
    {
     "name": "stdout",
     "output_type": "stream",
     "text": [
      "Estimating biases using als...\n",
      "Computing the pearson_baseline similarity matrix...\n",
      "Done computing similarity matrix.\n",
      "RMSE: 1.2479\n"
     ]
    },
    {
     "data": {
      "text/plain": [
       "1.2478712796308054"
      ]
     },
     "execution_count": 27,
     "metadata": {},
     "output_type": "execute_result"
    }
   ],
   "source": [
    "algo = KNNBaseline(\n",
    "    k = 40, sim_options = sim_pearson_baseline, \n",
    "    bsl_options = {'method': 'als','reg_i': 40, 'reg_u': 60}\n",
    "            )\n",
    "algo.fit(trainset)\n",
    "predictions = algo.test(testset)\n",
    "accuracy.rmse(predictions)"
   ]
  },
  {
   "cell_type": "code",
   "execution_count": null,
   "metadata": {},
   "outputs": [],
   "source": []
  }
 ],
 "metadata": {
  "kernelspec": {
   "display_name": "Python 3",
   "language": "python",
   "name": "python3"
  },
  "language_info": {
   "codemirror_mode": {
    "name": "ipython",
    "version": 3
   },
   "file_extension": ".py",
   "mimetype": "text/x-python",
   "name": "python",
   "nbconvert_exporter": "python",
   "pygments_lexer": "ipython3",
   "version": "3.7.4"
  },
  "toc": {
   "base_numbering": 1,
   "nav_menu": {},
   "number_sections": true,
   "sideBar": true,
   "skip_h1_title": false,
   "title_cell": "Table of Contents",
   "title_sidebar": "Contents",
   "toc_cell": false,
   "toc_position": {},
   "toc_section_display": true,
   "toc_window_display": true
  },
  "varInspector": {
   "cols": {
    "lenName": 16,
    "lenType": 16,
    "lenVar": 40
   },
   "kernels_config": {
    "python": {
     "delete_cmd_postfix": "",
     "delete_cmd_prefix": "del ",
     "library": "var_list.py",
     "varRefreshCmd": "print(var_dic_list())"
    },
    "r": {
     "delete_cmd_postfix": ") ",
     "delete_cmd_prefix": "rm(",
     "library": "var_list.r",
     "varRefreshCmd": "cat(var_dic_list()) "
    }
   },
   "types_to_exclude": [
    "module",
    "function",
    "builtin_function_or_method",
    "instance",
    "_Feature"
   ],
   "window_display": false
  }
 },
 "nbformat": 4,
 "nbformat_minor": 2
}
