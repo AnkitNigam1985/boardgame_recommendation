{
 "cells": [
  {
   "cell_type": "markdown",
   "metadata": {},
   "source": [
    "# Summary"
   ]
  },
  {
   "cell_type": "markdown",
   "metadata": {},
   "source": [
    "In this notebook, we look at recommednded systems based on the k-Nearest Neighbour (kNN) models, using the [surprise](https://surprise.readthedocs.io/en/stable/index.html) library. \n",
    "<br>\n",
    "\n",
    "We start by setting up the infrastructure, importing all the user ratings of the top 100 game on boardgamegeek (dy default metric called `geekrating`), as of March 31, 2020, and turning them into data structures `surprise` can work with. \n",
    "<br>\n",
    "\n",
    "Then, we run 4 different types of models:\n",
    "- `kNNBasic`: as the name suggests, the basic model, where we find similarities between items based on user ratings, and us that information to estimate unkown ratings\n",
    "- `kNNWithMeans`: a model that also takes the average ratings of different items into consideration\n",
    "- `kNNWithZScore`: starts by normalizing the user ratings\n",
    "- `kNNWithBasline`: a combination of kNN-type models and matrix factorization (which we will explore to more detail in the next Jupyter notebook)\n",
    "\n",
    "For each model, we run a `cross_validate` method to find the one with the highest `rmse` (Root Mean Squared Error) score. We save these results in `.csv` files in the `results` folder. Please note that we are doing some hyperparameter optimization when it comes to the `k` factor and the distance types to be used, so we could have used the `GridSearchCV` method as well. I wanted to explore the `cross_validate` function on its own, and the hyperparameter optimization is not too complicated to do by hand. \n",
    "\n"
   ]
  },
  {
   "cell_type": "markdown",
   "metadata": {},
   "source": [
    "# Infrastructure"
   ]
  },
  {
   "cell_type": "code",
   "execution_count": 11,
   "metadata": {},
   "outputs": [],
   "source": [
    "# surprise library\n",
    "from surprise import Dataset, Reader\n",
    "\n",
    "from surprise.similarities import \\\n",
    "    cosine, msd, pearson, pearson_baseline\n",
    "from surprise.prediction_algorithms.knns import \\\n",
    "    KNNBasic, KNNWithMeans, KNNWithZScore, KNNBaseline\n",
    "from surprise.model_selection import \\\n",
    "    train_test_split, GridSearchCV, cross_validate\n",
    "\n",
    "from surprise import accuracy\n",
    "from surprise.model_selection import KFold\n",
    "\n",
    "import pandas as pd\n",
    "import numpy as np\n",
    "import csv\n",
    "\n",
    "# my functions for this project\n",
    "import bgg_data_func\n",
    "import bgg_model_func\n",
    "from game_name_converter import NameConverter"
   ]
  },
  {
   "cell_type": "code",
   "execution_count": 12,
   "metadata": {},
   "outputs": [],
   "source": [
    "# setting a random seed for reproducibility\n",
    "my_seed = 12345\n",
    "np.random.seed(my_seed)\n",
    "\n",
    "# name converter to convert raw ids to game names\n",
    "name_converter = NameConverter('games_master_list.csv')"
   ]
  },
  {
   "cell_type": "code",
   "execution_count": 13,
   "metadata": {},
   "outputs": [],
   "source": [
    "# importing top 100 games and create a surprise object from it\n",
    "file_path = './data_input/games_100_summary.csv'\n",
    "\n",
    "reader = Reader(line_format='user item rating', sep=',', rating_scale = (1,10))\n",
    "\n",
    "data = Dataset.load_from_file(file_path, reader=reader)"
   ]
  },
  {
   "cell_type": "code",
   "execution_count": 14,
   "metadata": {},
   "outputs": [],
   "source": [
    "trainset, testset = train_test_split(data, test_size=0.2)"
   ]
  },
  {
   "cell_type": "code",
   "execution_count": 15,
   "metadata": {},
   "outputs": [
    {
     "name": "stdout",
     "output_type": "stream",
     "text": [
      "Number of users:  225784 \n",
      "\n",
      "Number of items:  100 \n",
      "\n"
     ]
    }
   ],
   "source": [
    "print('Number of users: ', trainset.n_users, '\\n')\n",
    "print('Number of items: ', trainset.n_items, '\\n')"
   ]
  },
  {
   "cell_type": "code",
   "execution_count": 16,
   "metadata": {},
   "outputs": [],
   "source": [
    "trainset_iids = list(trainset.all_items())\n",
    "iid_converter = lambda x: trainset.to_raw_iid(x)\n",
    "trainset_raw_iids = list(map(iid_converter, trainset_iids))"
   ]
  },
  {
   "cell_type": "code",
   "execution_count": 17,
   "metadata": {},
   "outputs": [
    {
     "name": "stdout",
     "output_type": "stream",
     "text": [
      "Number of users:  237253 \n",
      "\n",
      "Number of items:  100 \n",
      "\n"
     ]
    }
   ],
   "source": [
    "# we are using the trainsetfull to save distance metrics\n",
    "trainsetfull = data.build_full_trainset()\n",
    "print('Number of users: ', trainsetfull.n_users, '\\n')\n",
    "print('Number of items: ', trainsetfull.n_items, '\\n')"
   ]
  },
  {
   "cell_type": "code",
   "execution_count": 18,
   "metadata": {},
   "outputs": [],
   "source": [
    "trainsetfull_iids = list(trainsetfull.all_items())\n",
    "iid_converter = lambda x: trainsetfull.to_raw_iid(x)\n",
    "trainsetfull_raw_iids = list(map(iid_converter, trainsetfull_iids))"
   ]
  },
  {
   "cell_type": "markdown",
   "metadata": {},
   "source": [
    "# Modelling"
   ]
  },
  {
   "cell_type": "markdown",
   "metadata": {},
   "source": [
    "First, we define the similarity options, to be used by different models. The four options are:\n",
    "- `msd`\n",
    "- `cosine`\n",
    "- `pearson`\n",
    "- `pearson_baseline`"
   ]
  },
  {
   "cell_type": "code",
   "execution_count": 24,
   "metadata": {},
   "outputs": [],
   "source": [
    "sim_msd = {'name':'MSD', 'user_based':False}\n",
    "sim_cos = {'name':'cosine', 'user_based':False}\n",
    "sim_pearson = {'name':'pearson', 'user_based':False}\n",
    "sim_pearson_baseline = {'name': 'pearson_baseline','user_based':False, 'shrinkage': 100}\n",
    "\n",
    "sim_options = [sim_msd, sim_cos, sim_pearson, sim_pearson_baseline]"
   ]
  },
  {
   "cell_type": "code",
   "execution_count": 11,
   "metadata": {},
   "outputs": [],
   "source": [
    "list_of_ks = [10,20,40]"
   ]
  },
  {
   "cell_type": "markdown",
   "metadata": {},
   "source": [
    "On to the modelling. \n",
    "\n",
    "`KNNBasic`, `KNNWithMean`, `KNNWithZScore` can be used with first three sims, to tune: `k`, number of neighbors, looking at these first. \n",
    "\n",
    "With `KNNBaseline`, you also mix the `kNN` method with an underlying svd baseline estimation, and the recommended measure is `pearson_baseline` (according to `surprise`'s documentation).  "
   ]
  },
  {
   "cell_type": "markdown",
   "metadata": {},
   "source": [
    "## Similarity Matrices"
   ]
  },
  {
   "cell_type": "markdown",
   "metadata": {},
   "source": [
    "First, we are saving the top 10 closest games to each game in a `csv` file, separately for the three different similarity options. This is used in the first, simplest form of prediction we are doing in Jupyter notebook 04 later. "
   ]
  },
  {
   "cell_type": "code",
   "execution_count": 3,
   "metadata": {},
   "outputs": [],
   "source": [
    "# going for the first three models\n",
    "for i in range(0,3):\n",
    "    model = KNNBasic(sim_options = sim_options[i], verbose = False)\n",
    "    model.fit(trainsetfull)\n",
    "    save_similar_games(\n",
    "        model.sim, trainsetfull_raw_iids, 10, \n",
    "        './results/top_10_similar_games_' + sim_options[i]['name'] + '.csv')"
   ]
  },
  {
   "cell_type": "code",
   "execution_count": 4,
   "metadata": {},
   "outputs": [],
   "source": [
    "def save_similar_games(similarity_matrix, raw_iids, top_x, output_file):\n",
    "    df = bgg_model_func.return_top_similar_dataframe(similarity_matrix, raw_iids, top_x)\n",
    "    for column in df.columns:\n",
    "        df[column] = df[column].map(name_converter.get_game_name_from_id)\n",
    "    df.sort_values(['game'], inplace = True, axis = 0)\n",
    "    df.to_csv(output_file, index = False)"
   ]
  },
  {
   "cell_type": "code",
   "execution_count": 5,
   "metadata": {},
   "outputs": [],
   "source": [
    "df = pd.read_csv('./results/top_10_similar_games_' + sim_options[2]['name'] + '.csv')\n",
    "df;"
   ]
  },
  {
   "cell_type": "markdown",
   "metadata": {},
   "source": [
    "We are also saving the similarity matrix, just for `pearson` for now, that being the similarity option we use in the second, more complicated prediction function. "
   ]
  },
  {
   "cell_type": "code",
   "execution_count": 13,
   "metadata": {},
   "outputs": [
    {
     "data": {
      "text/plain": [
       "<surprise.prediction_algorithms.knns.KNNBasic at 0x181bad390>"
      ]
     },
     "execution_count": 13,
     "metadata": {},
     "output_type": "execute_result"
    }
   ],
   "source": [
    "model = KNNBasic(sim_options = sim_options[2], verbose = False)\n",
    "model.fit(trainsetfull)"
   ]
  },
  {
   "cell_type": "code",
   "execution_count": 17,
   "metadata": {},
   "outputs": [],
   "source": [
    "np.savetxt('./results/pearson_distances.csv', model.sim, delimiter=',')"
   ]
  },
  {
   "cell_type": "code",
   "execution_count": 21,
   "metadata": {},
   "outputs": [],
   "source": [
    "with open('./results/game_ids_for_distance_matrix.csv', 'w') as f:\n",
    "    writer = csv.writer(f)\n",
    "    writer.writerows(zip(trainsetfull_raw_iids, trainsetfull_iids))"
   ]
  },
  {
   "cell_type": "markdown",
   "metadata": {},
   "source": [
    "## kNN Models without Baseline"
   ]
  },
  {
   "cell_type": "markdown",
   "metadata": {},
   "source": [
    "Starting with the three `kNN` models that have no baseline attached to them. We are using `cross_validate` on all of them, and then save the rmse scores in `kNN_results.csv` in the `result` folder. \n",
    "\n",
    "Then, we pick the best performing model, and train it on the trainset only. "
   ]
  },
  {
   "cell_type": "markdown",
   "metadata": {},
   "source": [
    "### Hyperparameter Tuning"
   ]
  },
  {
   "cell_type": "code",
   "execution_count": 2,
   "metadata": {},
   "outputs": [],
   "source": [
    "# only run this cell once, when creating the file, it deletes everything from it\n",
    "\n",
    "with open('./results/kNN_scores.csv', 'w') as f:\n",
    "    writer = csv.writer(f)\n",
    "    writer.writerow(['model_type', 'similarity_option', 'k', 'train_rmse', 'test_rmse'])"
   ]
  },
  {
   "cell_type": "code",
   "execution_count": 1,
   "metadata": {},
   "outputs": [],
   "source": [
    "# KNNBasic\n",
    "for curr_sim_option in sim_options[0:3]:\n",
    "\n",
    "    for curr_k in list_of_ks:\n",
    "        \n",
    "        print(\n",
    "            'Currently calculating sim_option = ' + str(curr_sim_option['name']) + \\\n",
    "            ' and k = ' + str(curr_k) + ' ...' )        \n",
    "        algo = KNNBasic(k = curr_k, sim_options = curr_sim_option)\n",
    "        results = cross_validate(algo, data, measures=['RMSE'], cv=3, return_train_measures=True);\n",
    "        \n",
    "        with open('./results/kNN_scores.csv', 'a') as f:\n",
    "            writer = csv.writer(f)\n",
    "            writer.writerow(\n",
    "                ['KNNBasic', curr_sim_option['name'], str(curr_k), \n",
    "                 str(np.mean(results['train_rmse'])), str(np.mean(results['test_rmse']))])"
   ]
  },
  {
   "cell_type": "code",
   "execution_count": 6,
   "metadata": {},
   "outputs": [],
   "source": [
    "# KNNWithMeans\n",
    "for curr_sim_option in sim_options[0:3]:\n",
    "\n",
    "    for curr_k in list_of_ks:\n",
    "        \n",
    "        print(\n",
    "            'Currently calculating sim_option = ' + str(curr_sim_option['name']) + \\\n",
    "            ' and k = ' + str(curr_k) + ' ...' )\n",
    "        algo = KNNWithMeans(k = curr_k, sim_options = curr_sim_option)\n",
    "        results = cross_validate(algo, data, measures=['RMSE'], cv=3, return_train_measures=True);\n",
    "        \n",
    "        with open('./results/kNN_scores.csv', 'a') as f:\n",
    "            writer = csv.writer(f)\n",
    "            writer.writerow(\n",
    "                ['KNNWithMeans', curr_sim_option['name'], str(curr_k), \n",
    "                 str(np.mean(results['train_rmse'])), str(np.mean(results['test_rmse']))])"
   ]
  },
  {
   "cell_type": "code",
   "execution_count": 7,
   "metadata": {},
   "outputs": [],
   "source": [
    "# KNNWithZScore\n",
    "for curr_sim_option in sim_options[0:3]:\n",
    "\n",
    "    for curr_k in list_of_ks:\n",
    "        \n",
    "        print(\n",
    "            'Currently calculating sim_option = ' + str(curr_sim_option['name']) + \\\n",
    "            ' and k = ' + str(curr_k) + ' ...' )\n",
    "        algo = KNNWithZScore(k = curr_k, sim_options = curr_sim_option)\n",
    "        results = cross_validate(algo, data, measures=['RMSE'], cv=3, return_train_measures=True);\n",
    "        \n",
    "        with open('./results/kNN_scores.csv', 'a') as f:\n",
    "            writer = csv.writer(f)\n",
    "            writer.writerow(\n",
    "                ['KNNWithZScore', curr_sim_option['name'], str(curr_k), \n",
    "                 str(np.mean(results['train_rmse'])), str(np.mean(results['test_rmse']))])"
   ]
  },
  {
   "cell_type": "code",
   "execution_count": 58,
   "metadata": {},
   "outputs": [
    {
     "data": {
      "text/html": [
       "<div>\n",
       "<style scoped>\n",
       "    .dataframe tbody tr th:only-of-type {\n",
       "        vertical-align: middle;\n",
       "    }\n",
       "\n",
       "    .dataframe tbody tr th {\n",
       "        vertical-align: top;\n",
       "    }\n",
       "\n",
       "    .dataframe thead th {\n",
       "        text-align: right;\n",
       "    }\n",
       "</style>\n",
       "<table border=\"1\" class=\"dataframe\">\n",
       "  <thead>\n",
       "    <tr style=\"text-align: right;\">\n",
       "      <th></th>\n",
       "      <th>model_type</th>\n",
       "      <th>similarity_option</th>\n",
       "      <th>k</th>\n",
       "      <th>train_rmse</th>\n",
       "      <th>test_rmse</th>\n",
       "    </tr>\n",
       "  </thead>\n",
       "  <tbody>\n",
       "    <tr>\n",
       "      <td>15</td>\n",
       "      <td>KNNWithMeans</td>\n",
       "      <td>pearson</td>\n",
       "      <td>10</td>\n",
       "      <td>0.802911</td>\n",
       "      <td>1.268071</td>\n",
       "    </tr>\n",
       "    <tr>\n",
       "      <td>24</td>\n",
       "      <td>KNNWithZScore</td>\n",
       "      <td>pearson</td>\n",
       "      <td>10</td>\n",
       "      <td>0.803766</td>\n",
       "      <td>1.268229</td>\n",
       "    </tr>\n",
       "    <tr>\n",
       "      <td>25</td>\n",
       "      <td>KNNWithZScore</td>\n",
       "      <td>pearson</td>\n",
       "      <td>20</td>\n",
       "      <td>0.876658</td>\n",
       "      <td>1.270155</td>\n",
       "    </tr>\n",
       "    <tr>\n",
       "      <td>16</td>\n",
       "      <td>KNNWithMeans</td>\n",
       "      <td>pearson</td>\n",
       "      <td>20</td>\n",
       "      <td>0.875939</td>\n",
       "      <td>1.270204</td>\n",
       "    </tr>\n",
       "    <tr>\n",
       "      <td>26</td>\n",
       "      <td>KNNWithZScore</td>\n",
       "      <td>pearson</td>\n",
       "      <td>40</td>\n",
       "      <td>0.903048</td>\n",
       "      <td>1.274972</td>\n",
       "    </tr>\n",
       "    <tr>\n",
       "      <td>17</td>\n",
       "      <td>KNNWithMeans</td>\n",
       "      <td>pearson</td>\n",
       "      <td>40</td>\n",
       "      <td>0.902398</td>\n",
       "      <td>1.275318</td>\n",
       "    </tr>\n",
       "    <tr>\n",
       "      <td>10</td>\n",
       "      <td>KNNWithMeans</td>\n",
       "      <td>MSD</td>\n",
       "      <td>20</td>\n",
       "      <td>0.875226</td>\n",
       "      <td>1.278689</td>\n",
       "    </tr>\n",
       "    <tr>\n",
       "      <td>9</td>\n",
       "      <td>KNNWithMeans</td>\n",
       "      <td>MSD</td>\n",
       "      <td>10</td>\n",
       "      <td>0.789032</td>\n",
       "      <td>1.278780</td>\n",
       "    </tr>\n",
       "    <tr>\n",
       "      <td>19</td>\n",
       "      <td>KNNWithZScore</td>\n",
       "      <td>MSD</td>\n",
       "      <td>20</td>\n",
       "      <td>0.877514</td>\n",
       "      <td>1.281942</td>\n",
       "    </tr>\n",
       "    <tr>\n",
       "      <td>11</td>\n",
       "      <td>KNNWithMeans</td>\n",
       "      <td>MSD</td>\n",
       "      <td>40</td>\n",
       "      <td>0.904816</td>\n",
       "      <td>1.282700</td>\n",
       "    </tr>\n",
       "    <tr>\n",
       "      <td>12</td>\n",
       "      <td>KNNWithMeans</td>\n",
       "      <td>cosine</td>\n",
       "      <td>10</td>\n",
       "      <td>1.065292</td>\n",
       "      <td>1.282705</td>\n",
       "    </tr>\n",
       "    <tr>\n",
       "      <td>20</td>\n",
       "      <td>KNNWithZScore</td>\n",
       "      <td>MSD</td>\n",
       "      <td>40</td>\n",
       "      <td>0.905984</td>\n",
       "      <td>1.284449</td>\n",
       "    </tr>\n",
       "    <tr>\n",
       "      <td>13</td>\n",
       "      <td>KNNWithMeans</td>\n",
       "      <td>cosine</td>\n",
       "      <td>20</td>\n",
       "      <td>1.103034</td>\n",
       "      <td>1.284759</td>\n",
       "    </tr>\n",
       "    <tr>\n",
       "      <td>18</td>\n",
       "      <td>KNNWithZScore</td>\n",
       "      <td>MSD</td>\n",
       "      <td>10</td>\n",
       "      <td>0.793889</td>\n",
       "      <td>1.285155</td>\n",
       "    </tr>\n",
       "    <tr>\n",
       "      <td>22</td>\n",
       "      <td>KNNWithZScore</td>\n",
       "      <td>cosine</td>\n",
       "      <td>20</td>\n",
       "      <td>1.105098</td>\n",
       "      <td>1.286139</td>\n",
       "    </tr>\n",
       "    <tr>\n",
       "      <td>21</td>\n",
       "      <td>KNNWithZScore</td>\n",
       "      <td>cosine</td>\n",
       "      <td>10</td>\n",
       "      <td>1.070749</td>\n",
       "      <td>1.287117</td>\n",
       "    </tr>\n",
       "    <tr>\n",
       "      <td>14</td>\n",
       "      <td>KNNWithMeans</td>\n",
       "      <td>cosine</td>\n",
       "      <td>40</td>\n",
       "      <td>1.118475</td>\n",
       "      <td>1.290292</td>\n",
       "    </tr>\n",
       "    <tr>\n",
       "      <td>23</td>\n",
       "      <td>KNNWithZScore</td>\n",
       "      <td>cosine</td>\n",
       "      <td>40</td>\n",
       "      <td>1.119002</td>\n",
       "      <td>1.290930</td>\n",
       "    </tr>\n",
       "    <tr>\n",
       "      <td>6</td>\n",
       "      <td>KNNBasic</td>\n",
       "      <td>pearson</td>\n",
       "      <td>10</td>\n",
       "      <td>0.819101</td>\n",
       "      <td>1.293991</td>\n",
       "    </tr>\n",
       "    <tr>\n",
       "      <td>7</td>\n",
       "      <td>KNNBasic</td>\n",
       "      <td>pearson</td>\n",
       "      <td>20</td>\n",
       "      <td>0.894808</td>\n",
       "      <td>1.298322</td>\n",
       "    </tr>\n",
       "    <tr>\n",
       "      <td>0</td>\n",
       "      <td>KNNBasic</td>\n",
       "      <td>MSD</td>\n",
       "      <td>10</td>\n",
       "      <td>0.801325</td>\n",
       "      <td>1.302078</td>\n",
       "    </tr>\n",
       "    <tr>\n",
       "      <td>8</td>\n",
       "      <td>KNNBasic</td>\n",
       "      <td>pearson</td>\n",
       "      <td>40</td>\n",
       "      <td>0.922619</td>\n",
       "      <td>1.305020</td>\n",
       "    </tr>\n",
       "    <tr>\n",
       "      <td>1</td>\n",
       "      <td>KNNBasic</td>\n",
       "      <td>MSD</td>\n",
       "      <td>20</td>\n",
       "      <td>0.892190</td>\n",
       "      <td>1.307704</td>\n",
       "    </tr>\n",
       "    <tr>\n",
       "      <td>3</td>\n",
       "      <td>KNNBasic</td>\n",
       "      <td>cosine</td>\n",
       "      <td>10</td>\n",
       "      <td>1.090510</td>\n",
       "      <td>1.312877</td>\n",
       "    </tr>\n",
       "    <tr>\n",
       "      <td>2</td>\n",
       "      <td>KNNBasic</td>\n",
       "      <td>MSD</td>\n",
       "      <td>40</td>\n",
       "      <td>0.924511</td>\n",
       "      <td>1.313479</td>\n",
       "    </tr>\n",
       "    <tr>\n",
       "      <td>4</td>\n",
       "      <td>KNNBasic</td>\n",
       "      <td>cosine</td>\n",
       "      <td>20</td>\n",
       "      <td>1.130974</td>\n",
       "      <td>1.316924</td>\n",
       "    </tr>\n",
       "    <tr>\n",
       "      <td>5</td>\n",
       "      <td>KNNBasic</td>\n",
       "      <td>cosine</td>\n",
       "      <td>40</td>\n",
       "      <td>1.147118</td>\n",
       "      <td>1.324198</td>\n",
       "    </tr>\n",
       "  </tbody>\n",
       "</table>\n",
       "</div>"
      ],
      "text/plain": [
       "       model_type similarity_option   k  train_rmse  test_rmse\n",
       "15   KNNWithMeans           pearson  10    0.802911   1.268071\n",
       "24  KNNWithZScore           pearson  10    0.803766   1.268229\n",
       "25  KNNWithZScore           pearson  20    0.876658   1.270155\n",
       "16   KNNWithMeans           pearson  20    0.875939   1.270204\n",
       "26  KNNWithZScore           pearson  40    0.903048   1.274972\n",
       "17   KNNWithMeans           pearson  40    0.902398   1.275318\n",
       "10   KNNWithMeans               MSD  20    0.875226   1.278689\n",
       "9    KNNWithMeans               MSD  10    0.789032   1.278780\n",
       "19  KNNWithZScore               MSD  20    0.877514   1.281942\n",
       "11   KNNWithMeans               MSD  40    0.904816   1.282700\n",
       "12   KNNWithMeans            cosine  10    1.065292   1.282705\n",
       "20  KNNWithZScore               MSD  40    0.905984   1.284449\n",
       "13   KNNWithMeans            cosine  20    1.103034   1.284759\n",
       "18  KNNWithZScore               MSD  10    0.793889   1.285155\n",
       "22  KNNWithZScore            cosine  20    1.105098   1.286139\n",
       "21  KNNWithZScore            cosine  10    1.070749   1.287117\n",
       "14   KNNWithMeans            cosine  40    1.118475   1.290292\n",
       "23  KNNWithZScore            cosine  40    1.119002   1.290930\n",
       "6        KNNBasic           pearson  10    0.819101   1.293991\n",
       "7        KNNBasic           pearson  20    0.894808   1.298322\n",
       "0        KNNBasic               MSD  10    0.801325   1.302078\n",
       "8        KNNBasic           pearson  40    0.922619   1.305020\n",
       "1        KNNBasic               MSD  20    0.892190   1.307704\n",
       "3        KNNBasic            cosine  10    1.090510   1.312877\n",
       "2        KNNBasic               MSD  40    0.924511   1.313479\n",
       "4        KNNBasic            cosine  20    1.130974   1.316924\n",
       "5        KNNBasic            cosine  40    1.147118   1.324198"
      ]
     },
     "execution_count": 58,
     "metadata": {},
     "output_type": "execute_result"
    }
   ],
   "source": [
    "df = pd.read_csv('./results/kNN_scores.csv')\n",
    "df.sort_values(by = 'test_rmse', inplace = True)\n",
    "df"
   ]
  },
  {
   "cell_type": "markdown",
   "metadata": {},
   "source": [
    "Based on the results, best model seems to be this: \n",
    "- model type: `kNNWithMeans` \n",
    "- similarity option: `pearson` \n",
    "- `k`: 10\n",
    "<br>\n",
    "\n",
    "Overall, `pearson` seems to be a good similarity option. `kNNwithMeans` and `kNNWithZScore` outperforms `kNNBasic`.\n",
    "\n",
    "There is probably some overfitting, the train scores are much lower than the test scores (which is what you want, a low `rmse` score), but there is not much that can be done with it. The `cross_validated` test scores are quite promising. "
   ]
  },
  {
   "cell_type": "markdown",
   "metadata": {},
   "source": [
    "### Chosen Model Fitting"
   ]
  },
  {
   "cell_type": "code",
   "execution_count": 15,
   "metadata": {},
   "outputs": [],
   "source": [
    "chosen_k = 10\n",
    "chosen_sim_option = sim_pearson"
   ]
  },
  {
   "cell_type": "code",
   "execution_count": 16,
   "metadata": {},
   "outputs": [
    {
     "name": "stdout",
     "output_type": "stream",
     "text": [
      "Computing the pearson similarity matrix...\n",
      "Done computing similarity matrix.\n",
      "RMSE: 1.2530\n"
     ]
    },
    {
     "data": {
      "text/plain": [
       "1.2529763600132695"
      ]
     },
     "execution_count": 16,
     "metadata": {},
     "output_type": "execute_result"
    }
   ],
   "source": [
    "chosen_knn = KNNWithMeans(k = chosen_k, sim_options = chosen_sim_option)\n",
    "chosen_knn.fit(trainset)\n",
    "predictions = chosen_knn.test(testset)\n",
    "accuracy.rmse(predictions)"
   ]
  },
  {
   "cell_type": "markdown",
   "metadata": {},
   "source": [
    "`rmse` score for the chosen kNN without baseline model is __1.253__. "
   ]
  },
  {
   "cell_type": "markdown",
   "metadata": {},
   "source": [
    "## kNN with Baseline"
   ]
  },
  {
   "cell_type": "markdown",
   "metadata": {},
   "source": [
    "Next, we are following a similar process with the baseline model. We are using `cross_validate` to calculate scores of different models, then pick the best one, and fit it on the trainset and test on the test set. \n",
    "\n",
    "I am also doing some exploratory runs before `cross_validation`. "
   ]
  },
  {
   "cell_type": "markdown",
   "metadata": {},
   "source": [
    "### Hyperparameter Tuning - SGD"
   ]
  },
  {
   "cell_type": "markdown",
   "metadata": {},
   "source": [
    "With `sgd`, there are two things to potentially tune: `reg` and `learning_rate`. "
   ]
  },
  {
   "cell_type": "code",
   "execution_count": 18,
   "metadata": {},
   "outputs": [
    {
     "name": "stdout",
     "output_type": "stream",
     "text": [
      "Estimating biases using sgd...\n",
      "Computing the pearson_baseline similarity matrix...\n",
      "Done computing similarity matrix.\n",
      "RMSE: 1.2525\n"
     ]
    },
    {
     "data": {
      "text/plain": [
       "1.2524560273013874"
      ]
     },
     "execution_count": 18,
     "metadata": {},
     "output_type": "execute_result"
    }
   ],
   "source": [
    "algo = KNNBaseline(\n",
    "    k = 10, sim_options = sim_pearson_baseline, \n",
    "    bsl_options = {'method': 'sgd','learning_rate': .00005,}\n",
    "            )\n",
    "algo.fit(trainset)\n",
    "predictions = algo.test(testset)\n",
    "accuracy.rmse(predictions)"
   ]
  },
  {
   "cell_type": "code",
   "execution_count": 21,
   "metadata": {},
   "outputs": [
    {
     "name": "stdout",
     "output_type": "stream",
     "text": [
      "Estimating biases using sgd...\n",
      "Computing the pearson_baseline similarity matrix...\n",
      "Done computing similarity matrix.\n",
      "RMSE: 1.2549\n"
     ]
    },
    {
     "data": {
      "text/plain": [
       "1.254947354928457"
      ]
     },
     "execution_count": 21,
     "metadata": {},
     "output_type": "execute_result"
    }
   ],
   "source": [
    "algo = KNNBaseline(\n",
    "    k = 20, sim_options = sim_pearson_baseline, \n",
    "    bsl_options = {'method': 'sgd','learning_rate': .00005,}\n",
    "            )\n",
    "algo.fit(trainset)\n",
    "predictions = algo.test(testset)\n",
    "accuracy.rmse(predictions)"
   ]
  },
  {
   "cell_type": "code",
   "execution_count": 19,
   "metadata": {},
   "outputs": [
    {
     "name": "stdout",
     "output_type": "stream",
     "text": [
      "Estimating biases using sgd...\n",
      "Computing the pearson_baseline similarity matrix...\n",
      "Done computing similarity matrix.\n",
      "RMSE: 1.2596\n"
     ]
    },
    {
     "data": {
      "text/plain": [
       "1.2596134464301816"
      ]
     },
     "execution_count": 19,
     "metadata": {},
     "output_type": "execute_result"
    }
   ],
   "source": [
    "algo = KNNBaseline(\n",
    "    k = 10, sim_options = sim_pearson_baseline, \n",
    "    bsl_options = {'method': 'sgd','reg': 0.7, 'learning_rate': 0.006}\n",
    "            )\n",
    "algo.fit(trainset)\n",
    "predictions = algo.test(testset)\n",
    "accuracy.rmse(predictions)"
   ]
  },
  {
   "cell_type": "code",
   "execution_count": 20,
   "metadata": {},
   "outputs": [
    {
     "name": "stdout",
     "output_type": "stream",
     "text": [
      "Estimating biases using sgd...\n",
      "Computing the pearson_baseline similarity matrix...\n",
      "Done computing similarity matrix.\n",
      "RMSE: 1.2576\n"
     ]
    },
    {
     "data": {
      "text/plain": [
       "1.2576253376221016"
      ]
     },
     "execution_count": 20,
     "metadata": {},
     "output_type": "execute_result"
    }
   ],
   "source": [
    "algo = KNNBaseline(\n",
    "    k = 20, sim_options = sim_pearson_baseline, \n",
    "    bsl_options = {'method': 'sgd','reg': 0.7, 'learning_rate': 0.006}\n",
    "            )\n",
    "algo.fit(trainset)\n",
    "predictions = algo.test(testset)\n",
    "accuracy.rmse(predictions)"
   ]
  },
  {
   "cell_type": "code",
   "execution_count": 22,
   "metadata": {},
   "outputs": [
    {
     "name": "stdout",
     "output_type": "stream",
     "text": [
      "Estimating biases using sgd...\n",
      "Computing the pearson_baseline similarity matrix...\n",
      "Done computing similarity matrix.\n",
      "RMSE: 1.2594\n"
     ]
    },
    {
     "data": {
      "text/plain": [
       "1.2594038932095013"
      ]
     },
     "execution_count": 22,
     "metadata": {},
     "output_type": "execute_result"
    }
   ],
   "source": [
    "algo = KNNBaseline(\n",
    "    k = 20, sim_options = sim_pearson_baseline, \n",
    "    bsl_options = {'method': 'sgd','reg': 1, 'learning_rate': 0.01}\n",
    "            )\n",
    "algo.fit(trainset)\n",
    "predictions = algo.test(testset)\n",
    "accuracy.rmse(predictions)"
   ]
  },
  {
   "cell_type": "markdown",
   "metadata": {},
   "source": [
    "Choosing with cross validation. "
   ]
  },
  {
   "cell_type": "code",
   "execution_count": 12,
   "metadata": {},
   "outputs": [],
   "source": [
    "sgd_bsl_options = [\n",
    "    {'method':'sgd', 'reg': 0.02, 'learning_rate': 0.005},\n",
    "    {'method':'sgd', 'reg': 0.05, 'learning_rate': 0.005},\n",
    "    {'method':'sgd', 'reg': 0.1, 'learning_rate': 0.005},\n",
    "    {'method':'sgd', 'reg': 0.02, 'learning_rate': 0.01},\n",
    "    {'method':'sgd', 'reg': 0.05, 'learning_rate': 0.01},\n",
    "    {'method':'sgd', 'reg': 0.1, 'learning_rate': 0.01}\n",
    "]"
   ]
  },
  {
   "cell_type": "code",
   "execution_count": 14,
   "metadata": {},
   "outputs": [],
   "source": [
    "with open('./results/kNN_baseline_sgd_scores.csv', 'w') as f:\n",
    "    writer = csv.writer(f)\n",
    "    writer.writerow(['reg', 'learning_rate', 'k', 'train_rmse', 'test_rmse'])"
   ]
  },
  {
   "cell_type": "code",
   "execution_count": 8,
   "metadata": {},
   "outputs": [],
   "source": [
    "for curr_bsl_option in sgd_bsl_options:\n",
    "\n",
    "    for curr_k in list_of_ks:\n",
    "        \n",
    "        print(\n",
    "            'Currently calculating k = ' + str(curr_k) + ' ...'\n",
    "        )        \n",
    "        algo = KNNBaseline(k = curr_k, sim_options = sim_pearson_baseline, bsl_options = curr_bsl_option)\n",
    "        results = cross_validate(algo, data, measures=['RMSE'], cv=3, return_train_measures=True);\n",
    "        \n",
    "        with open('./results/kNN_baseline_sgd_scores.csv', 'a') as f:\n",
    "            writer = csv.writer(f)\n",
    "            writer.writerow(\n",
    "                [curr_bsl_option['reg'], curr_bsl_option['learning_rate'],str(curr_k), \n",
    "                 str(np.mean(results['train_rmse'])), str(np.mean(results['test_rmse']))])"
   ]
  },
  {
   "cell_type": "code",
   "execution_count": 19,
   "metadata": {},
   "outputs": [
    {
     "data": {
      "text/html": [
       "<div>\n",
       "<style scoped>\n",
       "    .dataframe tbody tr th:only-of-type {\n",
       "        vertical-align: middle;\n",
       "    }\n",
       "\n",
       "    .dataframe tbody tr th {\n",
       "        vertical-align: top;\n",
       "    }\n",
       "\n",
       "    .dataframe thead th {\n",
       "        text-align: right;\n",
       "    }\n",
       "</style>\n",
       "<table border=\"1\" class=\"dataframe\">\n",
       "  <thead>\n",
       "    <tr style=\"text-align: right;\">\n",
       "      <th></th>\n",
       "      <th>reg</th>\n",
       "      <th>learning_rate</th>\n",
       "      <th>k</th>\n",
       "      <th>train_rmse</th>\n",
       "      <th>test_rmse</th>\n",
       "    </tr>\n",
       "  </thead>\n",
       "  <tbody>\n",
       "    <tr>\n",
       "      <td>4</td>\n",
       "      <td>0.05</td>\n",
       "      <td>0.005</td>\n",
       "      <td>20</td>\n",
       "      <td>0.717027</td>\n",
       "      <td>1.270645</td>\n",
       "    </tr>\n",
       "    <tr>\n",
       "      <td>1</td>\n",
       "      <td>0.02</td>\n",
       "      <td>0.005</td>\n",
       "      <td>20</td>\n",
       "      <td>0.714546</td>\n",
       "      <td>1.272096</td>\n",
       "    </tr>\n",
       "    <tr>\n",
       "      <td>2</td>\n",
       "      <td>0.02</td>\n",
       "      <td>0.005</td>\n",
       "      <td>40</td>\n",
       "      <td>0.734164</td>\n",
       "      <td>1.272906</td>\n",
       "    </tr>\n",
       "    <tr>\n",
       "      <td>8</td>\n",
       "      <td>0.10</td>\n",
       "      <td>0.005</td>\n",
       "      <td>40</td>\n",
       "      <td>0.721023</td>\n",
       "      <td>1.273011</td>\n",
       "    </tr>\n",
       "    <tr>\n",
       "      <td>7</td>\n",
       "      <td>0.10</td>\n",
       "      <td>0.005</td>\n",
       "      <td>20</td>\n",
       "      <td>0.706895</td>\n",
       "      <td>1.273243</td>\n",
       "    </tr>\n",
       "    <tr>\n",
       "      <td>16</td>\n",
       "      <td>0.10</td>\n",
       "      <td>0.010</td>\n",
       "      <td>20</td>\n",
       "      <td>0.688731</td>\n",
       "      <td>1.274284</td>\n",
       "    </tr>\n",
       "    <tr>\n",
       "      <td>5</td>\n",
       "      <td>0.05</td>\n",
       "      <td>0.005</td>\n",
       "      <td>40</td>\n",
       "      <td>0.734801</td>\n",
       "      <td>1.274333</td>\n",
       "    </tr>\n",
       "    <tr>\n",
       "      <td>6</td>\n",
       "      <td>0.10</td>\n",
       "      <td>0.005</td>\n",
       "      <td>10</td>\n",
       "      <td>0.640963</td>\n",
       "      <td>1.274801</td>\n",
       "    </tr>\n",
       "    <tr>\n",
       "      <td>0</td>\n",
       "      <td>0.02</td>\n",
       "      <td>0.005</td>\n",
       "      <td>10</td>\n",
       "      <td>0.643013</td>\n",
       "      <td>1.275287</td>\n",
       "    </tr>\n",
       "    <tr>\n",
       "      <td>10</td>\n",
       "      <td>0.02</td>\n",
       "      <td>0.010</td>\n",
       "      <td>20</td>\n",
       "      <td>0.693436</td>\n",
       "      <td>1.276044</td>\n",
       "    </tr>\n",
       "    <tr>\n",
       "      <td>3</td>\n",
       "      <td>0.05</td>\n",
       "      <td>0.005</td>\n",
       "      <td>10</td>\n",
       "      <td>0.652734</td>\n",
       "      <td>1.276425</td>\n",
       "    </tr>\n",
       "    <tr>\n",
       "      <td>11</td>\n",
       "      <td>0.02</td>\n",
       "      <td>0.010</td>\n",
       "      <td>40</td>\n",
       "      <td>0.711007</td>\n",
       "      <td>1.278521</td>\n",
       "    </tr>\n",
       "    <tr>\n",
       "      <td>14</td>\n",
       "      <td>0.05</td>\n",
       "      <td>0.010</td>\n",
       "      <td>40</td>\n",
       "      <td>0.721929</td>\n",
       "      <td>1.278681</td>\n",
       "    </tr>\n",
       "    <tr>\n",
       "      <td>13</td>\n",
       "      <td>0.05</td>\n",
       "      <td>0.010</td>\n",
       "      <td>20</td>\n",
       "      <td>0.698570</td>\n",
       "      <td>1.278871</td>\n",
       "    </tr>\n",
       "    <tr>\n",
       "      <td>12</td>\n",
       "      <td>0.05</td>\n",
       "      <td>0.010</td>\n",
       "      <td>10</td>\n",
       "      <td>0.636643</td>\n",
       "      <td>1.279443</td>\n",
       "    </tr>\n",
       "    <tr>\n",
       "      <td>17</td>\n",
       "      <td>0.10</td>\n",
       "      <td>0.010</td>\n",
       "      <td>40</td>\n",
       "      <td>0.717216</td>\n",
       "      <td>1.279624</td>\n",
       "    </tr>\n",
       "    <tr>\n",
       "      <td>15</td>\n",
       "      <td>0.10</td>\n",
       "      <td>0.010</td>\n",
       "      <td>10</td>\n",
       "      <td>0.643231</td>\n",
       "      <td>1.279822</td>\n",
       "    </tr>\n",
       "    <tr>\n",
       "      <td>9</td>\n",
       "      <td>0.02</td>\n",
       "      <td>0.010</td>\n",
       "      <td>10</td>\n",
       "      <td>0.635427</td>\n",
       "      <td>1.280857</td>\n",
       "    </tr>\n",
       "  </tbody>\n",
       "</table>\n",
       "</div>"
      ],
      "text/plain": [
       "     reg  learning_rate   k  train_rmse  test_rmse\n",
       "4   0.05          0.005  20    0.717027   1.270645\n",
       "1   0.02          0.005  20    0.714546   1.272096\n",
       "2   0.02          0.005  40    0.734164   1.272906\n",
       "8   0.10          0.005  40    0.721023   1.273011\n",
       "7   0.10          0.005  20    0.706895   1.273243\n",
       "16  0.10          0.010  20    0.688731   1.274284\n",
       "5   0.05          0.005  40    0.734801   1.274333\n",
       "6   0.10          0.005  10    0.640963   1.274801\n",
       "0   0.02          0.005  10    0.643013   1.275287\n",
       "10  0.02          0.010  20    0.693436   1.276044\n",
       "3   0.05          0.005  10    0.652734   1.276425\n",
       "11  0.02          0.010  40    0.711007   1.278521\n",
       "14  0.05          0.010  40    0.721929   1.278681\n",
       "13  0.05          0.010  20    0.698570   1.278871\n",
       "12  0.05          0.010  10    0.636643   1.279443\n",
       "17  0.10          0.010  40    0.717216   1.279624\n",
       "15  0.10          0.010  10    0.643231   1.279822\n",
       "9   0.02          0.010  10    0.635427   1.280857"
      ]
     },
     "execution_count": 19,
     "metadata": {},
     "output_type": "execute_result"
    }
   ],
   "source": [
    "df = pd.read_csv('./results/kNN_baseline_sgd_scores.csv')\n",
    "df.sort_values(by = 'test_rmse', inplace = True)\n",
    "df"
   ]
  },
  {
   "cell_type": "markdown",
   "metadata": {},
   "source": [
    "In the best performing model, `reg` = 0.05, `learning_rate` = 0.005, `k` = 20. "
   ]
  },
  {
   "cell_type": "markdown",
   "metadata": {},
   "source": [
    "### Chosen Model Fitting - SGD"
   ]
  },
  {
   "cell_type": "code",
   "execution_count": 20,
   "metadata": {},
   "outputs": [],
   "source": [
    "chosen_reg_sgd = 0.05\n",
    "chosen_learning_rate_sgd = 0.005\n",
    "chosen_k_sgd = 20"
   ]
  },
  {
   "cell_type": "code",
   "execution_count": 25,
   "metadata": {},
   "outputs": [
    {
     "name": "stdout",
     "output_type": "stream",
     "text": [
      "Estimating biases using sgd...\n",
      "Computing the pearson_baseline similarity matrix...\n",
      "Done computing similarity matrix.\n",
      "RMSE: 1.2577\n"
     ]
    },
    {
     "data": {
      "text/plain": [
       "1.2576738344721636"
      ]
     },
     "execution_count": 25,
     "metadata": {},
     "output_type": "execute_result"
    }
   ],
   "source": [
    "chosen_knn_baseline_sgd = KNNBaseline(\n",
    "    k = chosen_k_sgd, \n",
    "    sim_options = sim_pearson_baseline,\n",
    "    bsl_options = {\n",
    "        'method':'sgd', 'reg': chosen_reg_sgd,  'learning_rate': chosen_learning_rate_sgd}\n",
    "    )\n",
    "chosen_knn_baseline_sgd.fit(trainset)\n",
    "predictions = chosen_knn_baseline_sgd.test(testset)\n",
    "accuracy.rmse(predictions)"
   ]
  },
  {
   "cell_type": "markdown",
   "metadata": {},
   "source": [
    "`rmse` score for the chosen kNN with `sgd` baseline model is __1.2577__. "
   ]
  },
  {
   "cell_type": "markdown",
   "metadata": {},
   "source": [
    "### Hyperparameter Tuning - ALS"
   ]
  },
  {
   "cell_type": "markdown",
   "metadata": {},
   "source": [
    "With `als`, there are two things to potentially tune tune: `reg_i` and `reg_u`. "
   ]
  },
  {
   "cell_type": "code",
   "execution_count": 23,
   "metadata": {},
   "outputs": [
    {
     "name": "stdout",
     "output_type": "stream",
     "text": [
      "Estimating biases using als...\n",
      "Computing the pearson_baseline similarity matrix...\n",
      "Done computing similarity matrix.\n",
      "RMSE: 1.2615\n"
     ]
    },
    {
     "data": {
      "text/plain": [
       "1.2615304328151062"
      ]
     },
     "execution_count": 23,
     "metadata": {},
     "output_type": "execute_result"
    }
   ],
   "source": [
    "algo = KNNBaseline(\n",
    "    k = 20, sim_options = sim_pearson_baseline, \n",
    "    bsl_options = {'method': 'als','reg_i': 10, 'reg_u': 15}\n",
    "            )\n",
    "algo.fit(trainset)\n",
    "predictions = algo.test(testset)\n",
    "accuracy.rmse(predictions)"
   ]
  },
  {
   "cell_type": "code",
   "execution_count": 24,
   "metadata": {},
   "outputs": [
    {
     "name": "stdout",
     "output_type": "stream",
     "text": [
      "Estimating biases using als...\n",
      "Computing the pearson_baseline similarity matrix...\n",
      "Done computing similarity matrix.\n",
      "RMSE: 1.2456\n"
     ]
    },
    {
     "data": {
      "text/plain": [
       "1.2455804940611168"
      ]
     },
     "execution_count": 24,
     "metadata": {},
     "output_type": "execute_result"
    }
   ],
   "source": [
    "algo = KNNBaseline(\n",
    "    k = 20, sim_options = sim_pearson_baseline, \n",
    "    bsl_options = {'method': 'als','reg_i': 20, 'reg_u': 30}\n",
    "            )\n",
    "algo.fit(trainset)\n",
    "predictions = algo.test(testset)\n",
    "accuracy.rmse(predictions)"
   ]
  },
  {
   "cell_type": "code",
   "execution_count": 25,
   "metadata": {},
   "outputs": [
    {
     "name": "stdout",
     "output_type": "stream",
     "text": [
      "Estimating biases using als...\n",
      "Computing the pearson_baseline similarity matrix...\n",
      "Done computing similarity matrix.\n",
      "RMSE: 1.2443\n"
     ]
    },
    {
     "data": {
      "text/plain": [
       "1.2443345584252317"
      ]
     },
     "execution_count": 25,
     "metadata": {},
     "output_type": "execute_result"
    }
   ],
   "source": [
    "algo = KNNBaseline(\n",
    "    k = 20, sim_options = sim_pearson_baseline, \n",
    "    bsl_options = {'method': 'als','reg_i': 40, 'reg_u': 60}\n",
    "            )\n",
    "algo.fit(trainset)\n",
    "predictions = algo.test(testset)\n",
    "accuracy.rmse(predictions)"
   ]
  },
  {
   "cell_type": "code",
   "execution_count": 26,
   "metadata": {},
   "outputs": [
    {
     "name": "stdout",
     "output_type": "stream",
     "text": [
      "Estimating biases using als...\n",
      "Computing the pearson_baseline similarity matrix...\n",
      "Done computing similarity matrix.\n",
      "RMSE: 1.2476\n"
     ]
    },
    {
     "data": {
      "text/plain": [
       "1.2476387661036483"
      ]
     },
     "execution_count": 26,
     "metadata": {},
     "output_type": "execute_result"
    }
   ],
   "source": [
    "algo = KNNBaseline(\n",
    "    k = 20, sim_options = sim_pearson_baseline, \n",
    "    bsl_options = {'method': 'als','reg_i': 80, 'reg_u': 120}\n",
    "            )\n",
    "algo.fit(trainset)\n",
    "predictions = algo.test(testset)\n",
    "accuracy.rmse(predictions)"
   ]
  },
  {
   "cell_type": "code",
   "execution_count": 27,
   "metadata": {},
   "outputs": [
    {
     "name": "stdout",
     "output_type": "stream",
     "text": [
      "Estimating biases using als...\n",
      "Computing the pearson_baseline similarity matrix...\n",
      "Done computing similarity matrix.\n",
      "RMSE: 1.2479\n"
     ]
    },
    {
     "data": {
      "text/plain": [
       "1.2478712796308054"
      ]
     },
     "execution_count": 27,
     "metadata": {},
     "output_type": "execute_result"
    }
   ],
   "source": [
    "algo = KNNBaseline(\n",
    "    k = 40, sim_options = sim_pearson_baseline, \n",
    "    bsl_options = {'method': 'als','reg_i': 40, 'reg_u': 60}\n",
    "            )\n",
    "algo.fit(trainset)\n",
    "predictions = algo.test(testset)\n",
    "accuracy.rmse(predictions)"
   ]
  },
  {
   "cell_type": "code",
   "execution_count": 17,
   "metadata": {},
   "outputs": [],
   "source": [
    "als_bsl_options = [\n",
    "    {'method':'als', 'reg_i': 20, 'reg_u': 30},\n",
    "    {'method':'als', 'reg_i': 40, 'reg_u': 60},\n",
    "    {'method':'als', 'reg_i': 20, 'reg_u': 30},\n",
    "    {'method':'als', 'reg_i': 40, 'reg_u': 60}\n",
    "]"
   ]
  },
  {
   "cell_type": "code",
   "execution_count": 16,
   "metadata": {},
   "outputs": [],
   "source": [
    "with open('./results/kNN_baseline_als_scores.csv', 'w') as f:\n",
    "    writer = csv.writer(f)\n",
    "    writer.writerow(['reg_i', 'reg_u', 'k', 'train_rmse', 'test_rmse'])"
   ]
  },
  {
   "cell_type": "code",
   "execution_count": 26,
   "metadata": {},
   "outputs": [],
   "source": [
    "for curr_bsl_option in als_bsl_options:\n",
    "\n",
    "    for curr_k in list_of_ks:\n",
    "        \n",
    "        print(\n",
    "            'Currently calculating k = ' + str(curr_k) + ' ...'\n",
    "        )        \n",
    "        algo = KNNBaseline(k = curr_k, sim_options = sim_pearson_baseline, bsl_options = curr_bsl_option)\n",
    "        results = cross_validate(algo, data, measures=['RMSE'], cv=3, return_train_measures=True);\n",
    "        \n",
    "        with open('./results/kNN_baseline_als_scores.csv', 'a') as f:\n",
    "            writer = csv.writer(f)\n",
    "            writer.writerow(\n",
    "                [curr_bsl_option['reg_i'], curr_bsl_option['reg_u'],str(curr_k), \n",
    "                 str(np.mean(results['train_rmse'])), str(np.mean(results['test_rmse']))])"
   ]
  },
  {
   "cell_type": "code",
   "execution_count": 27,
   "metadata": {},
   "outputs": [
    {
     "data": {
      "text/html": [
       "<div>\n",
       "<style scoped>\n",
       "    .dataframe tbody tr th:only-of-type {\n",
       "        vertical-align: middle;\n",
       "    }\n",
       "\n",
       "    .dataframe tbody tr th {\n",
       "        vertical-align: top;\n",
       "    }\n",
       "\n",
       "    .dataframe thead th {\n",
       "        text-align: right;\n",
       "    }\n",
       "</style>\n",
       "<table border=\"1\" class=\"dataframe\">\n",
       "  <thead>\n",
       "    <tr style=\"text-align: right;\">\n",
       "      <th></th>\n",
       "      <th>reg_i</th>\n",
       "      <th>reg_u</th>\n",
       "      <th>k</th>\n",
       "      <th>train_rmse</th>\n",
       "      <th>test_rmse</th>\n",
       "    </tr>\n",
       "  </thead>\n",
       "  <tbody>\n",
       "    <tr>\n",
       "      <td>3</td>\n",
       "      <td>40</td>\n",
       "      <td>60</td>\n",
       "      <td>10</td>\n",
       "      <td>0.653267</td>\n",
       "      <td>1.259249</td>\n",
       "    </tr>\n",
       "    <tr>\n",
       "      <td>10</td>\n",
       "      <td>40</td>\n",
       "      <td>60</td>\n",
       "      <td>20</td>\n",
       "      <td>0.726383</td>\n",
       "      <td>1.259914</td>\n",
       "    </tr>\n",
       "    <tr>\n",
       "      <td>9</td>\n",
       "      <td>40</td>\n",
       "      <td>60</td>\n",
       "      <td>10</td>\n",
       "      <td>0.653127</td>\n",
       "      <td>1.260000</td>\n",
       "    </tr>\n",
       "    <tr>\n",
       "      <td>4</td>\n",
       "      <td>40</td>\n",
       "      <td>60</td>\n",
       "      <td>20</td>\n",
       "      <td>0.726415</td>\n",
       "      <td>1.260152</td>\n",
       "    </tr>\n",
       "    <tr>\n",
       "      <td>7</td>\n",
       "      <td>20</td>\n",
       "      <td>30</td>\n",
       "      <td>20</td>\n",
       "      <td>0.602146</td>\n",
       "      <td>1.261174</td>\n",
       "    </tr>\n",
       "    <tr>\n",
       "      <td>1</td>\n",
       "      <td>20</td>\n",
       "      <td>30</td>\n",
       "      <td>20</td>\n",
       "      <td>0.602220</td>\n",
       "      <td>1.261175</td>\n",
       "    </tr>\n",
       "    <tr>\n",
       "      <td>8</td>\n",
       "      <td>20</td>\n",
       "      <td>30</td>\n",
       "      <td>40</td>\n",
       "      <td>0.615010</td>\n",
       "      <td>1.261723</td>\n",
       "    </tr>\n",
       "    <tr>\n",
       "      <td>2</td>\n",
       "      <td>20</td>\n",
       "      <td>30</td>\n",
       "      <td>40</td>\n",
       "      <td>0.614825</td>\n",
       "      <td>1.261848</td>\n",
       "    </tr>\n",
       "    <tr>\n",
       "      <td>0</td>\n",
       "      <td>20</td>\n",
       "      <td>30</td>\n",
       "      <td>10</td>\n",
       "      <td>0.546603</td>\n",
       "      <td>1.262745</td>\n",
       "    </tr>\n",
       "    <tr>\n",
       "      <td>6</td>\n",
       "      <td>20</td>\n",
       "      <td>30</td>\n",
       "      <td>10</td>\n",
       "      <td>0.546500</td>\n",
       "      <td>1.263341</td>\n",
       "    </tr>\n",
       "    <tr>\n",
       "      <td>5</td>\n",
       "      <td>40</td>\n",
       "      <td>60</td>\n",
       "      <td>40</td>\n",
       "      <td>0.750937</td>\n",
       "      <td>1.263578</td>\n",
       "    </tr>\n",
       "    <tr>\n",
       "      <td>11</td>\n",
       "      <td>40</td>\n",
       "      <td>60</td>\n",
       "      <td>40</td>\n",
       "      <td>0.750903</td>\n",
       "      <td>1.264019</td>\n",
       "    </tr>\n",
       "  </tbody>\n",
       "</table>\n",
       "</div>"
      ],
      "text/plain": [
       "    reg_i  reg_u   k  train_rmse  test_rmse\n",
       "3      40     60  10    0.653267   1.259249\n",
       "10     40     60  20    0.726383   1.259914\n",
       "9      40     60  10    0.653127   1.260000\n",
       "4      40     60  20    0.726415   1.260152\n",
       "7      20     30  20    0.602146   1.261174\n",
       "1      20     30  20    0.602220   1.261175\n",
       "8      20     30  40    0.615010   1.261723\n",
       "2      20     30  40    0.614825   1.261848\n",
       "0      20     30  10    0.546603   1.262745\n",
       "6      20     30  10    0.546500   1.263341\n",
       "5      40     60  40    0.750937   1.263578\n",
       "11     40     60  40    0.750903   1.264019"
      ]
     },
     "execution_count": 27,
     "metadata": {},
     "output_type": "execute_result"
    }
   ],
   "source": [
    "df = pd.read_csv('./results/kNN_baseline_als_scores.csv')\n",
    "df.sort_values(by = 'test_rmse', inplace = True)\n",
    "df"
   ]
  },
  {
   "cell_type": "markdown",
   "metadata": {},
   "source": [
    "In the best performing model, `reg_i` = 40, `reg_u` = 60, `k` = 10. "
   ]
  },
  {
   "cell_type": "markdown",
   "metadata": {},
   "source": [
    "### Chosen Model Fitting - ALS"
   ]
  },
  {
   "cell_type": "code",
   "execution_count": 29,
   "metadata": {},
   "outputs": [],
   "source": [
    "chosen_reg_i_als = 40\n",
    "chosen_reg_u_als = 60\n",
    "chosen_k_als = 10"
   ]
  },
  {
   "cell_type": "code",
   "execution_count": 30,
   "metadata": {},
   "outputs": [
    {
     "name": "stdout",
     "output_type": "stream",
     "text": [
      "Estimating biases using als...\n",
      "Computing the pearson_baseline similarity matrix...\n",
      "Done computing similarity matrix.\n",
      "RMSE: 1.2456\n"
     ]
    },
    {
     "data": {
      "text/plain": [
       "1.2455509595825713"
      ]
     },
     "execution_count": 30,
     "metadata": {},
     "output_type": "execute_result"
    }
   ],
   "source": [
    "chosen_knn_baseline_als = KNNBaseline(\n",
    "    k = chosen_k_als, \n",
    "    sim_options = sim_pearson_baseline,\n",
    "    bsl_options = {\n",
    "        'method':'als', 'reg_i':chosen_reg_i_als, 'reg_u': chosen_reg_u_als }\n",
    "    )\n",
    "chosen_knn_baseline_als.fit(trainset)\n",
    "predictions = chosen_knn_baseline_als.test(testset)\n",
    "accuracy.rmse(predictions)"
   ]
  },
  {
   "cell_type": "markdown",
   "metadata": {},
   "source": [
    "`rmse` score for the chosen kNN with `als` baseline model is __1.2456__. "
   ]
  },
  {
   "cell_type": "markdown",
   "metadata": {},
   "source": [
    "# Results"
   ]
  },
  {
   "cell_type": "markdown",
   "metadata": {},
   "source": [
    "We picked one hyperparameter setup from three model groups, all of them `kNN`-type models: \n",
    "- for the basic model with no baseline, `rmse` = 1.2530\n",
    "- for the baseline model with `sgd`, `rmse` = 1.2577\n",
    "- for the baseline model with `als`, `rmse` = 1.2456 "
   ]
  },
  {
   "cell_type": "markdown",
   "metadata": {},
   "source": [
    "It is clear that the results are quite close to each other, but strictly speaking, the `kNN` baseline model with an `als` method to estimate the baseline performed the best out of the three types. "
   ]
  }
 ],
 "metadata": {
  "kernelspec": {
   "display_name": "Python 3",
   "language": "python",
   "name": "python3"
  },
  "language_info": {
   "codemirror_mode": {
    "name": "ipython",
    "version": 3
   },
   "file_extension": ".py",
   "mimetype": "text/x-python",
   "name": "python",
   "nbconvert_exporter": "python",
   "pygments_lexer": "ipython3",
   "version": "3.7.4"
  },
  "toc": {
   "base_numbering": 1,
   "nav_menu": {},
   "number_sections": true,
   "sideBar": true,
   "skip_h1_title": false,
   "title_cell": "Table of Contents",
   "title_sidebar": "Contents",
   "toc_cell": false,
   "toc_position": {},
   "toc_section_display": true,
   "toc_window_display": true
  },
  "varInspector": {
   "cols": {
    "lenName": 16,
    "lenType": 16,
    "lenVar": 40
   },
   "kernels_config": {
    "python": {
     "delete_cmd_postfix": "",
     "delete_cmd_prefix": "del ",
     "library": "var_list.py",
     "varRefreshCmd": "print(var_dic_list())"
    },
    "r": {
     "delete_cmd_postfix": ") ",
     "delete_cmd_prefix": "rm(",
     "library": "var_list.r",
     "varRefreshCmd": "cat(var_dic_list()) "
    }
   },
   "types_to_exclude": [
    "module",
    "function",
    "builtin_function_or_method",
    "instance",
    "_Feature"
   ],
   "window_display": false
  }
 },
 "nbformat": 4,
 "nbformat_minor": 4
}
